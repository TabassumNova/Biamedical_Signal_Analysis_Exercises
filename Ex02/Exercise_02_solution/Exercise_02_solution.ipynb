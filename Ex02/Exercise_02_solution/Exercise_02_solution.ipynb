{
 "cells": [
  {
   "cell_type": "code",
   "execution_count": 1,
   "metadata": {
    "execution": {
     "iopub.execute_input": "2021-09-30T14:15:21.069924Z",
     "iopub.status.busy": "2021-09-30T14:15:21.068061Z",
     "iopub.status.idle": "2021-09-30T14:15:21.516065Z",
     "shell.execute_reply": "2021-09-30T14:15:21.516522Z"
    }
   },
   "outputs": [
    {
     "name": "stdout",
     "output_type": "stream",
     "text": [
      "Using Notebook widgets\n",
      "Warning: Cannot change to a different GUI toolkit: notebook. Using widget instead.\n",
      "Using static backend\n"
     ]
    }
   ],
   "source": [
    "# Imports und basic setup\n",
    "# Try to use the Lab Widgets or if not possible the NB widgets and if nothing works just static plots\n",
    "try:\n",
    "    %matplotlib widget\n",
    "    print('Using widgets')\n",
    "except:\n",
    "    try:\n",
    "        print('Using Notebook widgets')\n",
    "#         %matplotlib widget\n",
    "        %matplotlib notebook\n",
    "#         %matplotlib inline\n",
    "    except:\n",
    "        print('Using static backend')\n",
    "        %matplotlib inline\n",
    "import matplotlib.pyplot as plt\n",
    "import pandas as pd\n",
    "import numpy as np"
   ]
  },
  {
   "cell_type": "markdown",
   "metadata": {},
   "source": [
    "## Exercise 2.1: Signal Frequencies"
   ]
  },
  {
   "cell_type": "markdown",
   "metadata": {},
   "source": [
    "Basically every biomedical signal has some sort of periodic behavior and for many biosignals a change in its fundamental frequency is an important biomarker to indicate a change in body function.\n",
    "A few examples:\n",
    "\n",
    "- An increase in heart rate indicates higher metabolic expenditure\n",
    "- A change of frequency in our brainwaves marks the beginning of a new sleep phase\n",
    "- A change in step frequency can be an early indicator for neurodegenerative diseases like Parkinson\n",
    "\n",
    "But let's start simple and understand what we mean when we talk about the *frequency* of the signal.\n",
    "\n",
    "a) Below are two signals. Describe the nature of their frequency qualitatively.\n",
    "\n",
    "b) Give an example of a biosignal that behaves as the signal in panel A and an example of one that behaves as the one in panel B.\n",
    "\n",
    "c) Calculate the frequency of the signal in panel A by hand.\n",
    "\n",
    "d) What is the frequency of the signal in panel B at the beginning of the signal and at the end of the signal?\n",
    "\n",
    "![sine waves](media/sines.png)"
   ]
  },
  {
   "cell_type": "markdown",
   "metadata": {},
   "source": [
    "### Solution:\n",
    "\n",
    "a) A: constant frequency, B: changing frequency over time\n",
    "\n",
    "b) A: foot trajectory, heart rate, breathing B: EMG, Brain Waves, ...\n",
    "However, most biosignals change over time. If you would describe them as constant, only depends on the timescale of you observation.\n",
    "For example, the rate of breathing might be constant for a duration of 1 min, but over the course of a 90 min soccer game it will change constantly.\n",
    "\n",
    "c) There are $5$ cycles in $0.1 s$ &rightarrow; there are $50$ cycles in $1 s$.\n",
    "The frequency of the signal is $50\\frac{1}{s} = 50 Hz$.\n",
    "\n",
    "d) Length of first period: $\\approx 0.3s$ &rightarrow; $f \\approx 3 Hz$, Length of the last period $\\approx 0.05s$ &rightarrow; $f \\approx 20 Hz$.\n",
    "Therefore, we could describe the change of frequency by: $f(t) \\approx 3 + 17\\cdot t$ "
   ]
  },
  {
   "cell_type": "markdown",
   "metadata": {},
   "source": [
    "## Exercise 2.2.: Creating periodic signals in Python\n",
    "\n",
    "Try to recreate the signals above in Python.\n",
    "For this create a function (see below) that takes a frequency in $Hz$ (`f_0`), a *linear frequency change factor* in $Hz/s$ (`a`), the length of the desired signal in $s$ (`T`) and the sampling rate of the signal in $Hz$ (`f_s`) and then generates a cosine wave with the given frequency. See part a) for more details.\n",
    "\n",
    "a) A simple cosine function is defined as: $y(t) = \\cos(t)$, where $t$ is the time in seconds. Write down the mathematical function for a cosine wave with a constant frequency $f$ (1), a cosine wave with a general time dependent frequency (2), and a cosine wave with a linearly changing frequency starting from $f_0$ and increasing by $a$ every second, where $a\\ge 0$ (3).\n",
    "\n",
    "a) Create the described function using the skeleton code below. Use a the mathematical description from part a) for your implementation.\n",
    "\n",
    "Tip: Build your function step by step. First, try to create signals with constant frequencies and then move to signals with changing frequencies.\n",
    "\n",
    "b) Plot approximately the same signals you can see above (with appropriate x- and y-axis labels) using your function. Use a sampling rate of 2000 Hz for the first signal and a sampling rate of 1000 Hz for the second signal."
   ]
  },
  {
   "cell_type": "markdown",
   "metadata": {},
   "source": [
    "### Solution:\n",
    "\n",
    "a) \n",
    "\n",
    "1. $y(t) = \\cos(2\\pi f t)$\n",
    "2. Same as 1., but now $f$ is a function of $t$: $y(t) = \\cos(2\\pi f(t)\\cdot t)$\n",
    "3. A special case of 2., where $f(t)$ describes a linear function of the form $f(t) = f_0 + a\\cdot t$. We can simply replace this term in 2.: $y(t) = \\cos(2\\pi f(t)\\cdot t) = \\cos(2\\pi (f_0 + a\\cdot t)\\cdot t)$"
   ]
  },
  {
   "cell_type": "code",
   "execution_count": 2,
   "metadata": {
    "execution": {
     "iopub.execute_input": "2021-09-30T14:15:21.522260Z",
     "iopub.status.busy": "2021-09-30T14:15:21.521225Z",
     "iopub.status.idle": "2021-09-30T14:15:21.523201Z",
     "shell.execute_reply": "2021-09-30T14:15:21.523593Z"
    }
   },
   "outputs": [],
   "source": [
    "def create_signal(f_0, a, T, f_s=500):\n",
    "    \"\"\"Create a cos signal with given frequency characteristics.\n",
    "    \n",
    "    Args:\n",
    "        f_0: The frequency of the signal in Hz\n",
    "        a: Scaling factor for the linear frequency change of the signal in Hz/s\n",
    "            a=0 -> no change in frequency,\n",
    "            a>0 -> increase over time\n",
    "            a<0 -> not defined \n",
    "        T: The length of the signal in seconds\n",
    "        f_s: The sampling rate of the signal in Hz\n",
    "    \n",
    "    Returns:\n",
    "        t: The time axis values of the signal\n",
    "        y: The y values of the signal\n",
    "    \"\"\"\n",
    "    # Calculate the t values using the length of the signal and the sampling rate\n",
    "    ### BEGIN SOLUTION\n",
    "    t = np.arange(0, T, 1 / f_s)\n",
    "    ### END SOLUTION\n",
    "    # Calculate the frequency over time using the factor a\n",
    "    ### BEGIN SOLUTION\n",
    "    f = f_0 + a * t\n",
    "    ### END SOLUTION\n",
    "    # Calculate the final cos wave using np.cos\n",
    "    ### BEGIN SOLUTION\n",
    "    y = np.cos(2 * np.pi * f * t)\n",
    "    ### END SOLUTION\n",
    "    return t, y\n",
    "    "
   ]
  },
  {
   "cell_type": "code",
   "execution_count": 3,
   "metadata": {
    "execution": {
     "iopub.execute_input": "2021-09-30T14:15:21.550666Z",
     "iopub.status.busy": "2021-09-30T14:15:21.550119Z",
     "iopub.status.idle": "2021-09-30T14:15:21.675277Z",
     "shell.execute_reply": "2021-09-30T14:15:21.675624Z"
    }
   },
   "outputs": [
    {
     "data": {
      "image/png": "[encoded data removed]",
      "text/plain": [
       "<Figure size 432x288 with 1 Axes>"
      ]
     },
     "metadata": {
      "needs_background": "light"
     },
     "output_type": "display_data"
    }
   ],
   "source": [
    "# Plot the signal from panel A\n",
    "\n",
    "# Get t and y from the create signal function:\n",
    "### BEGIN SOLUTION\n",
    "t, y = create_signal(50, 0, 0.2, 2000)\n",
    "### END SOLUTION\n",
    "# Plot the signal\n",
    "plt.figure()\n",
    "plt.title('Panel A')\n",
    "### BEGIN SOLUTION\n",
    "plt.plot(t, y)\n",
    "plt.xlabel('t [s]')\n",
    "plt.ylabel('amplitude [a.u.]');\n",
    "### END SOLUTION"
   ]
  },
  {
   "cell_type": "code",
   "execution_count": 4,
   "metadata": {
    "execution": {
     "iopub.execute_input": "2021-09-30T14:15:21.694345Z",
     "iopub.status.busy": "2021-09-30T14:15:21.679418Z",
     "iopub.status.idle": "2021-09-30T14:15:21.805314Z",
     "shell.execute_reply": "2021-09-30T14:15:21.805663Z"
    }
   },
   "outputs": [
    {
     "data": {
      "image/png": "[encoded data removed]",
      "text/plain": [
       "<Figure size 432x288 with 1 Axes>"
      ]
     },
     "metadata": {
      "needs_background": "light"
     },
     "output_type": "display_data"
    }
   ],
   "source": [
    "# Plot the signal from panel B\n",
    "\n",
    "# Get t and y from the create signal function:\n",
    "### BEGIN SOLUTION\n",
    "# The signal needs to change from 3 to 20 Hz in 1s -> a = 17\n",
    "t, y = create_signal(3, 17, 1, 1000)\n",
    "### END SOLUTION\n",
    "# Plot the signal\n",
    "plt.figure()\n",
    "plt.title('Panel B')\n",
    "### BEGIN SOLUTION\n",
    "plt.plot(t, y)\n",
    "plt.xlabel('t [s]')\n",
    "plt.ylabel('amplitude [a.u.]');\n",
    "### END SOLUTION"
   ]
  },
  {
   "cell_type": "markdown",
   "metadata": {},
   "source": [
    "### Exercise 2.3: Intuitive understanding of the sampling problem"
   ]
  },
  {
   "cell_type": "markdown",
   "metadata": {},
   "source": [
    "A good way to understand the influence of parameters on a given problem/algorithm is to interactively modify their values to see the results.\n",
    "Python/Jupyter provides a simple way to get this type of interactivity: [Jupyter Widgets](https://ipywidgets.readthedocs.io/en/latest/examples/Using%20Interact.html)\n",
    "\n",
    "Below you can find a simple example to plot a linear function with interactive slope and offset.\n",
    "\n",
    "a) Modify the example below to make all parameters of your `create_signal` function interactive.\n",
    "\n",
    "b) Play around with the parameters. \n",
    "What happens when $f_s = f_0$, $f_s = 2\\cdot f_0$, $f_s < f_0$, or $f_s >> f_0$? What are the implications for biosignal measurements?"
   ]
  },
  {
   "cell_type": "markdown",
   "metadata": {},
   "source": [
    "### Solution:\n",
    "\n",
    "b) Changing the ratio between sampling rate and the signal frequency dramatically influences the shape of the final signal.\n",
    "Simply put, if we do not choose an sampling frequency that is much greater than the frequency of our signal, we will not be able to reproduce our biosignal accurately.\n",
    "\n",
    "- At $f_s = f_0$ or $f_s = \\frac{f_0}{n}$, where $n$ is a natural number, the signal vanishes and we only see a constant signal.\n",
    "This happens, because we sample the signal at the exact same point in each cycle.\n",
    "- At $f_s < f_0$ signal is visible, but the frequency of the observed signal does not match the frequency of the signal we want to display\n",
    "- At $f_s = 2\\cdot f_0$ the main frequency time matches the frequency of the signal we want to display for the first time.\n",
    "- At $f_s > 2\\cdot f_0$ the observed signal will depend on the relation between $f_s$ and $f_0$.\n",
    "The envelop you can see at certain combinations of $f_s$ and $f_0$ is itself oscillating with the frequency $f_s - f_0$.\n",
    "- At $f_s >> f_0$ most of the artifacts appear to vanish and our cosine appears to be perfectly represented.\n",
    "However, the same artifacts are still there. They are just not visible anymore.\n",
    "You can still see them if you zoom in closer or look at longer segments of the signal.\n",
    "\n",
    "$f_s = 2\\cdot f_0$ is a very important case! $2\\cdot f_0$ is often called the Nyquist frequency.\n",
    "We will learn more about this in a couple of weeks.\n"
   ]
  },
  {
   "cell_type": "code",
   "execution_count": 5,
   "metadata": {
    "execution": {
     "iopub.execute_input": "2021-09-30T14:15:21.810121Z",
     "iopub.status.busy": "2021-09-30T14:15:21.809620Z",
     "iopub.status.idle": "2021-09-30T14:15:21.959131Z",
     "shell.execute_reply": "2021-09-30T14:15:21.959551Z"
    }
   },
   "outputs": [
    {
     "data": {
      "image/png": "[encoded data removed]",
      "text/plain": [
       "<Figure size 432x288 with 1 Axes>"
      ]
     },
     "metadata": {
      "needs_background": "light"
     },
     "output_type": "display_data"
    },
    {
     "data": {
      "application/vnd.jupyter.widget-view+json": {
       "model_id": "9195e07c1b364d58b68378e0897c3d4e",
       "version_major": 2,
       "version_minor": 0
      },
      "text/plain": [
       "interactive(children=(FloatSlider(value=0.0, description='a', max=10.0, min=-10.0, step=0.5), FloatSlider(valu…"
      ]
     },
     "metadata": {},
     "output_type": "display_data"
    }
   ],
   "source": [
    "from ipywidgets import interact\n",
    "\n",
    "fig = plt.figure()\n",
    "ax = fig.add_subplot(1, 1, 1)\n",
    "\n",
    "def plot_line(a, b):\n",
    "    ax.clear()  # Remove the last plot\n",
    "    x = np.arange(100) / 100\n",
    "    y = a * x + b\n",
    "    ax.plot(x, y, '.-') # Plot the new plot into the specified subplot\n",
    "    ax.set_xlabel('time [s]')\n",
    "\n",
    "interact(plot_line, a=(-10,10,0.5), b=(-5, 5, 0.5));"
   ]
  },
  {
   "cell_type": "code",
   "execution_count": 7,
   "metadata": {
    "execution": {
     "iopub.execute_input": "2021-09-30T14:15:21.981507Z",
     "iopub.status.busy": "2021-09-30T14:15:21.970103Z",
     "iopub.status.idle": "2021-09-30T14:15:22.099899Z",
     "shell.execute_reply": "2021-09-30T14:15:22.100304Z"
    }
   },
   "outputs": [
    {
     "data": {
      "image/png": "[encoded data removed]",
      "text/plain": [
       "<Figure size 432x288 with 1 Axes>"
      ]
     },
     "metadata": {
      "needs_background": "light"
     },
     "output_type": "display_data"
    },
    {
     "data": {
      "application/vnd.jupyter.widget-view+json": {
       "model_id": "d47347c2e9364e07b01f91ef46be0ff0",
       "version_major": 2,
       "version_minor": 0
      },
      "text/plain": [
       "interactive(children=(FloatSlider(value=5.0, description='f_0', max=50.0, min=0.1), FloatSlider(value=0.0, des…"
      ]
     },
     "metadata": {},
     "output_type": "display_data"
    }
   ],
   "source": [
    "# Create your own interactive plot!\n",
    "\n",
    "# create one function that combines creating the sine and plotting it\n",
    "# Use the function above as example\n",
    "fig = plt.figure()\n",
    "ax = fig.add_subplot(1, 1, 1)\n",
    "\n",
    "def plot_cos(f_0=5, a=0, T=5, f_s=500):\n",
    "    ax.clear()\n",
    "    # BEGIN SOLUTION\n",
    "    t, y = create_signal(f_0, a, T, f_s)\n",
    "    ax.plot(t, y, '.-')\n",
    "    ax.set_xlabel('time [s]')\n",
    "    # END SOLUTION\n",
    "\n",
    "# Use interact to make everything interactive\n",
    "### BEGIN SOLUTION\n",
    "interact(plot_cos, f_0=(0.1,50,0.1), a=(0, 20, 0.1), T=(0.2, 10, 0.2), f_s=(1, 2000, 1));\n",
    "### END SOLUTION"
   ]
  },
  {
   "cell_type": "code",
   "execution_count": null,
   "metadata": {},
   "outputs": [],
   "source": []
  }
 ],
 "metadata": {
  "kernelspec": {
   "display_name": "Python 3",
   "language": "python",
   "name": "python3"
  },
  "language_info": {
   "codemirror_mode": {
    "name": "ipython",
    "version": 3
   },
   "file_extension": ".py",
   "mimetype": "text/x-python",
   "name": "python",
   "nbconvert_exporter": "python",
   "pygments_lexer": "ipython3",
   "version": "3.9.2"
  },
  "widgets": {
   "application/vnd.jupyter.widget-state+json": {
    "state": {
     "14ba7d706ec840959637e63ecc150c10": {
      "model_module": "@jupyter-widgets/base",
      "model_module_version": "1.2.0",
      "model_name": "LayoutModel",
      "state": {
       "_model_module": "@jupyter-widgets/base",
       "_model_module_version": "1.2.0",
       "_model_name": "LayoutModel",
       "_view_count": null,
       "_view_module": "@jupyter-widgets/base",
       "_view_module_version": "1.2.0",
       "_view_name": "LayoutView",
       "align_content": null,
       "align_items": null,
       "align_self": null,
       "border": null,
       "bottom": null,
       "display": null,
       "flex": null,
       "flex_flow": null,
       "grid_area": null,
       "grid_auto_columns": null,
       "grid_auto_flow": null,
       "grid_auto_rows": null,
       "grid_column": null,
       "grid_gap": null,
       "grid_row": null,
       "grid_template_areas": null,
       "grid_template_columns": null,
       "grid_template_rows": null,
       "height": null,
       "justify_content": null,
       "justify_items": null,
       "left": null,
       "margin": null,
       "max_height": null,
       "max_width": null,
       "min_height": null,
       "min_width": null,
       "object_fit": null,
       "object_position": null,
       "order": null,
       "overflow": null,
       "overflow_x": null,
       "overflow_y": null,
       "padding": null,
       "right": null,
       "top": null,
       "visibility": null,
       "width": null
      }
     },
     "1b7e2bb5b6b34d859ea9f6f6ce076293": {
      "model_module": "@jupyter-widgets/base",
      "model_module_version": "1.2.0",
      "model_name": "LayoutModel",
      "state": {
       "_model_module": "@jupyter-widgets/base",
       "_model_module_version": "1.2.0",
       "_model_name": "LayoutModel",
       "_view_count": null,
       "_view_module": "@jupyter-widgets/base",
       "_view_module_version": "1.2.0",
       "_view_name": "LayoutView",
       "align_content": null,
       "align_items": null,
       "align_self": null,
       "border": null,
       "bottom": null,
       "display": null,
       "flex": null,
       "flex_flow": null,
       "grid_area": null,
       "grid_auto_columns": null,
       "grid_auto_flow": null,
       "grid_auto_rows": null,
       "grid_column": null,
       "grid_gap": null,
       "grid_row": null,
       "grid_template_areas": null,
       "grid_template_columns": null,
       "grid_template_rows": null,
       "height": null,
       "justify_content": null,
       "justify_items": null,
       "left": null,
       "margin": null,
       "max_height": null,
       "max_width": null,
       "min_height": null,
       "min_width": null,
       "object_fit": null,
       "object_position": null,
       "order": null,
       "overflow": null,
       "overflow_x": null,
       "overflow_y": null,
       "padding": null,
       "right": null,
       "top": null,
       "visibility": null,
       "width": null
      }
     },
     "30645f80479b4e1d9ed999789653f7f0": {
      "model_module": "@jupyter-widgets/base",
      "model_module_version": "1.2.0",
      "model_name": "LayoutModel",
      "state": {
       "_model_module": "@jupyter-widgets/base",
       "_model_module_version": "1.2.0",
       "_model_name": "LayoutModel",
       "_view_count": null,
       "_view_module": "@jupyter-widgets/base",
       "_view_module_version": "1.2.0",
       "_view_name": "LayoutView",
       "align_content": null,
       "align_items": null,
       "align_self": null,
       "border": null,
       "bottom": null,
       "display": null,
       "flex": null,
       "flex_flow": null,
       "grid_area": null,
       "grid_auto_columns": null,
       "grid_auto_flow": null,
       "grid_auto_rows": null,
       "grid_column": null,
       "grid_gap": null,
       "grid_row": null,
       "grid_template_areas": null,
       "grid_template_columns": null,
       "grid_template_rows": null,
       "height": null,
       "justify_content": null,
       "justify_items": null,
       "left": null,
       "margin": null,
       "max_height": null,
       "max_width": null,
       "min_height": null,
       "min_width": null,
       "object_fit": null,
       "object_position": null,
       "order": null,
       "overflow": null,
       "overflow_x": null,
       "overflow_y": null,
       "padding": null,
       "right": null,
       "top": null,
       "visibility": null,
       "width": null
      }
     },
     "30ef276c9cdc4a4791fd77cd39c4f5f6": {
      "model_module": "@jupyter-widgets/controls",
      "model_module_version": "1.5.0",
      "model_name": "FloatSliderModel",
      "state": {
       "_dom_classes": [],
       "_model_module": "@jupyter-widgets/controls",
       "_model_module_version": "1.5.0",
       "_model_name": "FloatSliderModel",
       "_view_count": null,
       "_view_module": "@jupyter-widgets/controls",
       "_view_module_version": "1.5.0",
       "_view_name": "FloatSliderView",
       "continuous_update": true,
       "description": "b",
       "description_tooltip": null,
       "disabled": false,
       "layout": "IPY_MODEL_40a43229cc8a4ebd97bd56028addedc6",
       "max": 5,
       "min": -5,
       "orientation": "horizontal",
       "readout": true,
       "readout_format": ".2f",
       "step": 0.5,
       "style": "IPY_MODEL_effbec41ad7440b886077aa5745bdc08",
       "value": 0
      }
     },
     "378223a3afa34102a7335e426f0da04d": {
      "model_module": "@jupyter-widgets/controls",
      "model_module_version": "1.5.0",
      "model_name": "FloatSliderModel",
      "state": {
       "_dom_classes": [],
       "_model_module": "@jupyter-widgets/controls",
       "_model_module_version": "1.5.0",
       "_model_name": "FloatSliderModel",
       "_view_count": null,
       "_view_module": "@jupyter-widgets/controls",
       "_view_module_version": "1.5.0",
       "_view_name": "FloatSliderView",
       "continuous_update": true,
       "description": "a",
       "description_tooltip": null,
       "disabled": false,
       "layout": "IPY_MODEL_14ba7d706ec840959637e63ecc150c10",
       "max": 10,
       "min": -10,
       "orientation": "horizontal",
       "readout": true,
       "readout_format": ".2f",
       "step": 0.5,
       "style": "IPY_MODEL_a257f2039a3f48f8b12d27735a9f957e",
       "value": 0
      }
     },
     "3d25e6b0d0fe4b269ce91696402d4eb8": {
      "model_module": "@jupyter-widgets/base",
      "model_module_version": "1.2.0",
      "model_name": "LayoutModel",
      "state": {
       "_model_module": "@jupyter-widgets/base",
       "_model_module_version": "1.2.0",
       "_model_name": "LayoutModel",
       "_view_count": null,
       "_view_module": "@jupyter-widgets/base",
       "_view_module_version": "1.2.0",
       "_view_name": "LayoutView",
       "align_content": null,
       "align_items": null,
       "align_self": null,
       "border": null,
       "bottom": null,
       "display": null,
       "flex": null,
       "flex_flow": null,
       "grid_area": null,
       "grid_auto_columns": null,
       "grid_auto_flow": null,
       "grid_auto_rows": null,
       "grid_column": null,
       "grid_gap": null,
       "grid_row": null,
       "grid_template_areas": null,
       "grid_template_columns": null,
       "grid_template_rows": null,
       "height": null,
       "justify_content": null,
       "justify_items": null,
       "left": null,
       "margin": null,
       "max_height": null,
       "max_width": null,
       "min_height": null,
       "min_width": null,
       "object_fit": null,
       "object_position": null,
       "order": null,
       "overflow": null,
       "overflow_x": null,
       "overflow_y": null,
       "padding": null,
       "right": null,
       "top": null,
       "visibility": null,
       "width": null
      }
     },
     "40a43229cc8a4ebd97bd56028addedc6": {
      "model_module": "@jupyter-widgets/base",
      "model_module_version": "1.2.0",
      "model_name": "LayoutModel",
      "state": {
       "_model_module": "@jupyter-widgets/base",
       "_model_module_version": "1.2.0",
       "_model_name": "LayoutModel",
       "_view_count": null,
       "_view_module": "@jupyter-widgets/base",
       "_view_module_version": "1.2.0",
       "_view_name": "LayoutView",
       "align_content": null,
       "align_items": null,
       "align_self": null,
       "border": null,
       "bottom": null,
       "display": null,
       "flex": null,
       "flex_flow": null,
       "grid_area": null,
       "grid_auto_columns": null,
       "grid_auto_flow": null,
       "grid_auto_rows": null,
       "grid_column": null,
       "grid_gap": null,
       "grid_row": null,
       "grid_template_areas": null,
       "grid_template_columns": null,
       "grid_template_rows": null,
       "height": null,
       "justify_content": null,
       "justify_items": null,
       "left": null,
       "margin": null,
       "max_height": null,
       "max_width": null,
       "min_height": null,
       "min_width": null,
       "object_fit": null,
       "object_position": null,
       "order": null,
       "overflow": null,
       "overflow_x": null,
       "overflow_y": null,
       "padding": null,
       "right": null,
       "top": null,
       "visibility": null,
       "width": null
      }
     },
     "4ad91f1c43fa49eab89fd4ad9bf07dee": {
      "model_module": "@jupyter-widgets/base",
      "model_module_version": "1.2.0",
      "model_name": "LayoutModel",
      "state": {
       "_model_module": "@jupyter-widgets/base",
       "_model_module_version": "1.2.0",
       "_model_name": "LayoutModel",
       "_view_count": null,
       "_view_module": "@jupyter-widgets/base",
       "_view_module_version": "1.2.0",
       "_view_name": "LayoutView",
       "align_content": null,
       "align_items": null,
       "align_self": null,
       "border": null,
       "bottom": null,
       "display": null,
       "flex": null,
       "flex_flow": null,
       "grid_area": null,
       "grid_auto_columns": null,
       "grid_auto_flow": null,
       "grid_auto_rows": null,
       "grid_column": null,
       "grid_gap": null,
       "grid_row": null,
       "grid_template_areas": null,
       "grid_template_columns": null,
       "grid_template_rows": null,
       "height": null,
       "justify_content": null,
       "justify_items": null,
       "left": null,
       "margin": null,
       "max_height": null,
       "max_width": null,
       "min_height": null,
       "min_width": null,
       "object_fit": null,
       "object_position": null,
       "order": null,
       "overflow": null,
       "overflow_x": null,
       "overflow_y": null,
       "padding": null,
       "right": null,
       "top": null,
       "visibility": null,
       "width": null
      }
     },
     "53bae630c6a84f14b9a72a2183d986cd": {
      "model_module": "@jupyter-widgets/base",
      "model_module_version": "1.2.0",
      "model_name": "LayoutModel",
      "state": {
       "_model_module": "@jupyter-widgets/base",
       "_model_module_version": "1.2.0",
       "_model_name": "LayoutModel",
       "_view_count": null,
       "_view_module": "@jupyter-widgets/base",
       "_view_module_version": "1.2.0",
       "_view_name": "LayoutView",
       "align_content": null,
       "align_items": null,
       "align_self": null,
       "border": null,
       "bottom": null,
       "display": null,
       "flex": null,
       "flex_flow": null,
       "grid_area": null,
       "grid_auto_columns": null,
       "grid_auto_flow": null,
       "grid_auto_rows": null,
       "grid_column": null,
       "grid_gap": null,
       "grid_row": null,
       "grid_template_areas": null,
       "grid_template_columns": null,
       "grid_template_rows": null,
       "height": null,
       "justify_content": null,
       "justify_items": null,
       "left": null,
       "margin": null,
       "max_height": null,
       "max_width": null,
       "min_height": null,
       "min_width": null,
       "object_fit": null,
       "object_position": null,
       "order": null,
       "overflow": null,
       "overflow_x": null,
       "overflow_y": null,
       "padding": null,
       "right": null,
       "top": null,
       "visibility": null,
       "width": null
      }
     },
     "70116549356346b790856549c727521d": {
      "model_module": "@jupyter-widgets/base",
      "model_module_version": "1.2.0",
      "model_name": "LayoutModel",
      "state": {
       "_model_module": "@jupyter-widgets/base",
       "_model_module_version": "1.2.0",
       "_model_name": "LayoutModel",
       "_view_count": null,
       "_view_module": "@jupyter-widgets/base",
       "_view_module_version": "1.2.0",
       "_view_name": "LayoutView",
       "align_content": null,
       "align_items": null,
       "align_self": null,
       "border": null,
       "bottom": null,
       "display": null,
       "flex": null,
       "flex_flow": null,
       "grid_area": null,
       "grid_auto_columns": null,
       "grid_auto_flow": null,
       "grid_auto_rows": null,
       "grid_column": null,
       "grid_gap": null,
       "grid_row": null,
       "grid_template_areas": null,
       "grid_template_columns": null,
       "grid_template_rows": null,
       "height": null,
       "justify_content": null,
       "justify_items": null,
       "left": null,
       "margin": null,
       "max_height": null,
       "max_width": null,
       "min_height": null,
       "min_width": null,
       "object_fit": null,
       "object_position": null,
       "order": null,
       "overflow": null,
       "overflow_x": null,
       "overflow_y": null,
       "padding": null,
       "right": null,
       "top": null,
       "visibility": null,
       "width": null
      }
     },
     "84faf0751ce74c73bbf132ac620cf5ca": {
      "model_module": "@jupyter-widgets/controls",
      "model_module_version": "1.5.0",
      "model_name": "SliderStyleModel",
      "state": {
       "_model_module": "@jupyter-widgets/controls",
       "_model_module_version": "1.5.0",
       "_model_name": "SliderStyleModel",
       "_view_count": null,
       "_view_module": "@jupyter-widgets/base",
       "_view_module_version": "1.2.0",
       "_view_name": "StyleView",
       "description_width": "",
       "handle_color": null
      }
     },
     "8ab0541359da4631a4625c3571598d78": {
      "model_module": "@jupyter-widgets/controls",
      "model_module_version": "1.5.0",
      "model_name": "FloatSliderModel",
      "state": {
       "_dom_classes": [],
       "_model_module": "@jupyter-widgets/controls",
       "_model_module_version": "1.5.0",
       "_model_name": "FloatSliderModel",
       "_view_count": null,
       "_view_module": "@jupyter-widgets/controls",
       "_view_module_version": "1.5.0",
       "_view_name": "FloatSliderView",
       "continuous_update": true,
       "description": "a",
       "description_tooltip": null,
       "disabled": false,
       "layout": "IPY_MODEL_53bae630c6a84f14b9a72a2183d986cd",
       "max": 20,
       "min": 0,
       "orientation": "horizontal",
       "readout": true,
       "readout_format": ".2f",
       "step": 0.1,
       "style": "IPY_MODEL_b22cc89a8a8c427fa2685e4749676442",
       "value": 0
      }
     },
     "9d0cbed82d5a4fd4b518b26f47331b91": {
      "model_module": "@jupyter-widgets/controls",
      "model_module_version": "1.5.0",
      "model_name": "SliderStyleModel",
      "state": {
       "_model_module": "@jupyter-widgets/controls",
       "_model_module_version": "1.5.0",
       "_model_name": "SliderStyleModel",
       "_view_count": null,
       "_view_module": "@jupyter-widgets/base",
       "_view_module_version": "1.2.0",
       "_view_name": "StyleView",
       "description_width": "",
       "handle_color": null
      }
     },
     "a257f2039a3f48f8b12d27735a9f957e": {
      "model_module": "@jupyter-widgets/controls",
      "model_module_version": "1.5.0",
      "model_name": "SliderStyleModel",
      "state": {
       "_model_module": "@jupyter-widgets/controls",
       "_model_module_version": "1.5.0",
       "_model_name": "SliderStyleModel",
       "_view_count": null,
       "_view_module": "@jupyter-widgets/base",
       "_view_module_version": "1.2.0",
       "_view_name": "StyleView",
       "description_width": "",
       "handle_color": null
      }
     },
     "a2b4a6a0c2d9485bbddc5ee05dd9a674": {
      "model_module": "@jupyter-widgets/controls",
      "model_module_version": "1.5.0",
      "model_name": "FloatSliderModel",
      "state": {
       "_dom_classes": [],
       "_model_module": "@jupyter-widgets/controls",
       "_model_module_version": "1.5.0",
       "_model_name": "FloatSliderModel",
       "_view_count": null,
       "_view_module": "@jupyter-widgets/controls",
       "_view_module_version": "1.5.0",
       "_view_name": "FloatSliderView",
       "continuous_update": true,
       "description": "T",
       "description_tooltip": null,
       "disabled": false,
       "layout": "IPY_MODEL_1b7e2bb5b6b34d859ea9f6f6ce076293",
       "max": 10,
       "min": 0.2,
       "orientation": "horizontal",
       "readout": true,
       "readout_format": ".2f",
       "step": 0.2,
       "style": "IPY_MODEL_9d0cbed82d5a4fd4b518b26f47331b91",
       "value": 5
      }
     },
     "aca6d60ab5104b07a9e830325baf8ef9": {
      "model_module": "@jupyter-widgets/output",
      "model_module_version": "1.0.0",
      "model_name": "OutputModel",
      "state": {
       "_dom_classes": [],
       "_model_module": "@jupyter-widgets/output",
       "_model_module_version": "1.0.0",
       "_model_name": "OutputModel",
       "_view_count": null,
       "_view_module": "@jupyter-widgets/output",
       "_view_module_version": "1.0.0",
       "_view_name": "OutputView",
       "layout": "IPY_MODEL_d679e1a73a2f422a9a5029db3954039d",
       "msg_id": "",
       "outputs": []
      }
     },
     "b22cc89a8a8c427fa2685e4749676442": {
      "model_module": "@jupyter-widgets/controls",
      "model_module_version": "1.5.0",
      "model_name": "SliderStyleModel",
      "state": {
       "_model_module": "@jupyter-widgets/controls",
       "_model_module_version": "1.5.0",
       "_model_name": "SliderStyleModel",
       "_view_count": null,
       "_view_module": "@jupyter-widgets/base",
       "_view_module_version": "1.2.0",
       "_view_name": "StyleView",
       "description_width": "",
       "handle_color": null
      }
     },
     "b6b12fd3fbe148ad9501636e5276df18": {
      "model_module": "@jupyter-widgets/controls",
      "model_module_version": "1.5.0",
      "model_name": "SliderStyleModel",
      "state": {
       "_model_module": "@jupyter-widgets/controls",
       "_model_module_version": "1.5.0",
       "_model_name": "SliderStyleModel",
       "_view_count": null,
       "_view_module": "@jupyter-widgets/base",
       "_view_module_version": "1.2.0",
       "_view_name": "StyleView",
       "description_width": "",
       "handle_color": null
      }
     },
     "c1faebac190d40bca36ec638ae031e9e": {
      "model_module": "@jupyter-widgets/base",
      "model_module_version": "1.2.0",
      "model_name": "LayoutModel",
      "state": {
       "_model_module": "@jupyter-widgets/base",
       "_model_module_version": "1.2.0",
       "_model_name": "LayoutModel",
       "_view_count": null,
       "_view_module": "@jupyter-widgets/base",
       "_view_module_version": "1.2.0",
       "_view_name": "LayoutView",
       "align_content": null,
       "align_items": null,
       "align_self": null,
       "border": null,
       "bottom": null,
       "display": null,
       "flex": null,
       "flex_flow": null,
       "grid_area": null,
       "grid_auto_columns": null,
       "grid_auto_flow": null,
       "grid_auto_rows": null,
       "grid_column": null,
       "grid_gap": null,
       "grid_row": null,
       "grid_template_areas": null,
       "grid_template_columns": null,
       "grid_template_rows": null,
       "height": null,
       "justify_content": null,
       "justify_items": null,
       "left": null,
       "margin": null,
       "max_height": null,
       "max_width": null,
       "min_height": null,
       "min_width": null,
       "object_fit": null,
       "object_position": null,
       "order": null,
       "overflow": null,
       "overflow_x": null,
       "overflow_y": null,
       "padding": null,
       "right": null,
       "top": null,
       "visibility": null,
       "width": null
      }
     },
     "d5fc075fcb2d4ca584418be305e24174": {
      "model_module": "@jupyter-widgets/controls",
      "model_module_version": "1.5.0",
      "model_name": "VBoxModel",
      "state": {
       "_dom_classes": [
        "widget-interact"
       ],
       "_model_module": "@jupyter-widgets/controls",
       "_model_module_version": "1.5.0",
       "_model_name": "VBoxModel",
       "_view_count": null,
       "_view_module": "@jupyter-widgets/controls",
       "_view_module_version": "1.5.0",
       "_view_name": "VBoxView",
       "box_style": "",
       "children": [
        "IPY_MODEL_378223a3afa34102a7335e426f0da04d",
        "IPY_MODEL_30ef276c9cdc4a4791fd77cd39c4f5f6",
        "IPY_MODEL_aca6d60ab5104b07a9e830325baf8ef9"
       ],
       "layout": "IPY_MODEL_4ad91f1c43fa49eab89fd4ad9bf07dee"
      }
     },
     "d679e1a73a2f422a9a5029db3954039d": {
      "model_module": "@jupyter-widgets/base",
      "model_module_version": "1.2.0",
      "model_name": "LayoutModel",
      "state": {
       "_model_module": "@jupyter-widgets/base",
       "_model_module_version": "1.2.0",
       "_model_name": "LayoutModel",
       "_view_count": null,
       "_view_module": "@jupyter-widgets/base",
       "_view_module_version": "1.2.0",
       "_view_name": "LayoutView",
       "align_content": null,
       "align_items": null,
       "align_self": null,
       "border": null,
       "bottom": null,
       "display": null,
       "flex": null,
       "flex_flow": null,
       "grid_area": null,
       "grid_auto_columns": null,
       "grid_auto_flow": null,
       "grid_auto_rows": null,
       "grid_column": null,
       "grid_gap": null,
       "grid_row": null,
       "grid_template_areas": null,
       "grid_template_columns": null,
       "grid_template_rows": null,
       "height": null,
       "justify_content": null,
       "justify_items": null,
       "left": null,
       "margin": null,
       "max_height": null,
       "max_width": null,
       "min_height": null,
       "min_width": null,
       "object_fit": null,
       "object_position": null,
       "order": null,
       "overflow": null,
       "overflow_x": null,
       "overflow_y": null,
       "padding": null,
       "right": null,
       "top": null,
       "visibility": null,
       "width": null
      }
     },
     "d72d331a116c440695e49f918c7538da": {
      "model_module": "@jupyter-widgets/output",
      "model_module_version": "1.0.0",
      "model_name": "OutputModel",
      "state": {
       "_dom_classes": [],
       "_model_module": "@jupyter-widgets/output",
       "_model_module_version": "1.0.0",
       "_model_name": "OutputModel",
       "_view_count": null,
       "_view_module": "@jupyter-widgets/output",
       "_view_module_version": "1.0.0",
       "_view_name": "OutputView",
       "layout": "IPY_MODEL_30645f80479b4e1d9ed999789653f7f0",
       "msg_id": "",
       "outputs": []
      }
     },
     "e2147f0345e341cc9af202b18a7f84de": {
      "model_module": "@jupyter-widgets/controls",
      "model_module_version": "1.5.0",
      "model_name": "VBoxModel",
      "state": {
       "_dom_classes": [
        "widget-interact"
       ],
       "_model_module": "@jupyter-widgets/controls",
       "_model_module_version": "1.5.0",
       "_model_name": "VBoxModel",
       "_view_count": null,
       "_view_module": "@jupyter-widgets/controls",
       "_view_module_version": "1.5.0",
       "_view_name": "VBoxView",
       "box_style": "",
       "children": [
        "IPY_MODEL_e434e1185e11402484d12f76fa065fb3",
        "IPY_MODEL_8ab0541359da4631a4625c3571598d78",
        "IPY_MODEL_a2b4a6a0c2d9485bbddc5ee05dd9a674",
        "IPY_MODEL_ed9b677890b148eca3a7424cb3f58207",
        "IPY_MODEL_d72d331a116c440695e49f918c7538da"
       ],
       "layout": "IPY_MODEL_c1faebac190d40bca36ec638ae031e9e"
      }
     },
     "e434e1185e11402484d12f76fa065fb3": {
      "model_module": "@jupyter-widgets/controls",
      "model_module_version": "1.5.0",
      "model_name": "FloatSliderModel",
      "state": {
       "_dom_classes": [],
       "_model_module": "@jupyter-widgets/controls",
       "_model_module_version": "1.5.0",
       "_model_name": "FloatSliderModel",
       "_view_count": null,
       "_view_module": "@jupyter-widgets/controls",
       "_view_module_version": "1.5.0",
       "_view_name": "FloatSliderView",
       "continuous_update": true,
       "description": "f_0",
       "description_tooltip": null,
       "disabled": false,
       "layout": "IPY_MODEL_70116549356346b790856549c727521d",
       "max": 50,
       "min": 0.1,
       "orientation": "horizontal",
       "readout": true,
       "readout_format": ".2f",
       "step": 0.1,
       "style": "IPY_MODEL_b6b12fd3fbe148ad9501636e5276df18",
       "value": 5
      }
     },
     "ed9b677890b148eca3a7424cb3f58207": {
      "model_module": "@jupyter-widgets/controls",
      "model_module_version": "1.5.0",
      "model_name": "IntSliderModel",
      "state": {
       "_dom_classes": [],
       "_model_module": "@jupyter-widgets/controls",
       "_model_module_version": "1.5.0",
       "_model_name": "IntSliderModel",
       "_view_count": null,
       "_view_module": "@jupyter-widgets/controls",
       "_view_module_version": "1.5.0",
       "_view_name": "IntSliderView",
       "continuous_update": true,
       "description": "f_s",
       "description_tooltip": null,
       "disabled": false,
       "layout": "IPY_MODEL_3d25e6b0d0fe4b269ce91696402d4eb8",
       "max": 2000,
       "min": 1,
       "orientation": "horizontal",
       "readout": true,
       "readout_format": "d",
       "step": 1,
       "style": "IPY_MODEL_84faf0751ce74c73bbf132ac620cf5ca",
       "value": 500
      }
     },
     "effbec41ad7440b886077aa5745bdc08": {
      "model_module": "@jupyter-widgets/controls",
      "model_module_version": "1.5.0",
      "model_name": "SliderStyleModel",
      "state": {
       "_model_module": "@jupyter-widgets/controls",
       "_model_module_version": "1.5.0",
       "_model_name": "SliderStyleModel",
       "_view_count": null,
       "_view_module": "@jupyter-widgets/base",
       "_view_module_version": "1.2.0",
       "_view_name": "StyleView",
       "description_width": "",
       "handle_color": null
      }
     }
    },
    "version_major": 2,
    "version_minor": 0
   }
  }
 },
 "nbformat": 4,
 "nbformat_minor": 4
}
