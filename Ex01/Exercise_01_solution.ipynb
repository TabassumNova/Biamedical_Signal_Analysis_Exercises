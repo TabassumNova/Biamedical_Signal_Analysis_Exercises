{
 "cells": [
  {
   "cell_type": "code",
   "execution_count": 1,
   "metadata": {
    "execution": {
     "iopub.execute_input": "2021-10-07T11:04:24.100334Z",
     "iopub.status.busy": "2021-10-07T11:04:24.099507Z",
     "iopub.status.idle": "2021-10-07T11:04:24.953421Z",
     "shell.execute_reply": "2021-10-07T11:04:24.953894Z"
    }
   },
   "outputs": [],
   "source": [
    "# Imports und basic setup\n",
    "# Try to use the Lab Widgets or if not possible the NB widgets and if nothing works just static plots\n",
    "try:\n",
    "    %matplotlib widget\n",
    "except:\n",
    "    try:\n",
    "        %matplotlib notebook\n",
    "    except:\n",
    "        %matplotlib inline\n",
    "import matplotlib.pyplot as plt\n",
    "import pandas as pd\n",
    "import numpy as np"
   ]
  },
  {
   "cell_type": "markdown",
   "metadata": {},
   "source": [
    "## Exercise 1.1: Nerve Conduction Velocity\n",
    "\n",
    "To test for Guillain-Barré syndrome (GBS) the nerve conduction velocity of multiple patients was measured.\n",
    "The test records the time a electrical signal takes to travel along the forearm of a patient from the elbow to the wrist.\n",
    "To reduce the potential of measurement errors, each patient was measured 3 times.\n",
    "The results in $ms$ are provided as the `measurements` DataFrame below.\n",
    "The same DataFrame also provides the length of the forearm in $cm$.\n",
    "\n",
    "a) Create a function that takes the data of a all patient as input and calculates the mean and the std of the patient's nerve conduction velocity in $m/s$.\n",
    "\n",
    "Tip: Try to make use of `numpy`'s vectorisation to perform the calculation without using an explicit loop.\n",
    "\n",
    "b) Which of these patients might has GBS? Assume a healthy velocity of around 45-70 $m/s$."
   ]
  },
  {
   "cell_type": "code",
   "execution_count": 2,
   "metadata": {
    "execution": {
     "iopub.execute_input": "2021-10-07T11:04:24.965985Z",
     "iopub.status.busy": "2021-10-07T11:04:24.965136Z",
     "iopub.status.idle": "2021-10-07T11:04:24.976504Z",
     "shell.execute_reply": "2021-10-07T11:04:24.976973Z"
    }
   },
   "outputs": [
    {
     "data": {
      "text/html": [
       "<div>\n",
       "<style scoped>\n",
       "    .dataframe tbody tr th:only-of-type {\n",
       "        vertical-align: middle;\n",
       "    }\n",
       "\n",
       "    .dataframe tbody tr th {\n",
       "        vertical-align: top;\n",
       "    }\n",
       "\n",
       "    .dataframe thead th {\n",
       "        text-align: right;\n",
       "    }\n",
       "</style>\n",
       "<table border=\"1\" class=\"dataframe\">\n",
       "  <thead>\n",
       "    <tr style=\"text-align: right;\">\n",
       "      <th></th>\n",
       "      <th>forearm</th>\n",
       "      <th>times</th>\n",
       "    </tr>\n",
       "  </thead>\n",
       "  <tbody>\n",
       "    <tr>\n",
       "      <th>p1</th>\n",
       "      <td>45.0</td>\n",
       "      <td>[9.7, 9.8, 10.1]</td>\n",
       "    </tr>\n",
       "    <tr>\n",
       "      <th>p2</th>\n",
       "      <td>47.0</td>\n",
       "      <td>[14.2, 12.4, 13.6]</td>\n",
       "    </tr>\n",
       "    <tr>\n",
       "      <th>p3</th>\n",
       "      <td>50.0</td>\n",
       "      <td>[8.0, 8.3, 8.2]</td>\n",
       "    </tr>\n",
       "    <tr>\n",
       "      <th>p4</th>\n",
       "      <td>48.0</td>\n",
       "      <td>[10.2, 8.0, 10.6]</td>\n",
       "    </tr>\n",
       "  </tbody>\n",
       "</table>\n",
       "</div>"
      ],
      "text/plain": [
       "   forearm               times\n",
       "p1    45.0    [9.7, 9.8, 10.1]\n",
       "p2    47.0  [14.2, 12.4, 13.6]\n",
       "p3    50.0     [8.0, 8.3, 8.2]\n",
       "p4    48.0   [10.2, 8.0, 10.6]"
      ]
     },
     "execution_count": 2,
     "metadata": {},
     "output_type": "execute_result"
    }
   ],
   "source": [
    "measurements = {\n",
    "    'p1': {'forearm': 45., 'times': np.array([9.7, 9.8, 10.1]) },\n",
    "    'p2': {'forearm': 47., 'times': np.array([14.2, 12.4, 13.6]) },\n",
    "    'p3': {'forearm': 50., 'times': np.array([8. , 8.3, 8.2]) },\n",
    "    'p4': {'forearm': 48., 'times': np.array([10.2,  8. , 10.6]) },\n",
    "}\n",
    "\n",
    "# Convert to DataFrame for nicer visualisation\n",
    "measurements = pd.DataFrame(measurements).T\n",
    "measurements"
   ]
  },
  {
   "cell_type": "code",
   "execution_count": 3,
   "metadata": {
    "execution": {
     "iopub.execute_input": "2021-10-07T11:04:24.982737Z",
     "iopub.status.busy": "2021-10-07T11:04:24.982023Z",
     "iopub.status.idle": "2021-10-07T11:04:24.985497Z",
     "shell.execute_reply": "2021-10-07T11:04:24.986001Z"
    },
    "tags": []
   },
   "outputs": [
    {
     "name": "stdout",
     "output_type": "stream",
     "text": [
      "[[ 9.7  9.8 10.1]\n",
      " [14.2 12.4 13.6]\n",
      " [ 8.   8.3  8.2]\n",
      " [10.2  8.  10.6]]\n",
      "[45. 47. 50. 48.]\n"
     ]
    }
   ],
   "source": [
    "# Extract the values as numpy arrays for faster computations\n",
    "times = np.vstack(measurements.times.values)\n",
    "forearms = np.array(measurements.forearm.tolist())\n",
    "print(times)\n",
    "print(forearms)"
   ]
  },
  {
   "cell_type": "code",
   "execution_count": 4,
   "metadata": {
    "execution": {
     "iopub.execute_input": "2021-10-07T11:04:24.991709Z",
     "iopub.status.busy": "2021-10-07T11:04:24.990860Z",
     "iopub.status.idle": "2021-10-07T11:04:24.993543Z",
     "shell.execute_reply": "2021-10-07T11:04:24.994493Z"
    }
   },
   "outputs": [],
   "source": [
    "def nerve_conduction_velocity(times, forearm_length):\n",
    "    ### BEGIN SOLUTION\n",
    "    # array[:, None] or array[:, np.newaxis] is used to allow broadcasting\n",
    "    # Learn more about this e.g. here\n",
    "    # https://stackoverflow.com/questions/29241056/how-does-numpy-newaxis-work-and-when-to-use-it\n",
    "    vel = (forearm_length[:, None] / 100) / (times / 1000)\n",
    "    vel_mean = np.mean(vel, axis=1)\n",
    "    vel_std = np.std(vel, axis=1)\n",
    "    ### END SOLUTION\n",
    "    return vel_mean, vel_std"
   ]
  },
  {
   "cell_type": "code",
   "execution_count": 5,
   "metadata": {
    "execution": {
     "iopub.execute_input": "2021-10-07T11:04:25.007248Z",
     "iopub.status.busy": "2021-10-07T11:04:25.006493Z",
     "iopub.status.idle": "2021-10-07T11:04:25.010198Z",
     "shell.execute_reply": "2021-10-07T11:04:25.010667Z"
    }
   },
   "outputs": [
    {
     "data": {
      "text/html": [
       "<div>\n",
       "<style scoped>\n",
       "    .dataframe tbody tr th:only-of-type {\n",
       "        vertical-align: middle;\n",
       "    }\n",
       "\n",
       "    .dataframe tbody tr th {\n",
       "        vertical-align: top;\n",
       "    }\n",
       "\n",
       "    .dataframe thead th {\n",
       "        text-align: right;\n",
       "    }\n",
       "</style>\n",
       "<table border=\"1\" class=\"dataframe\">\n",
       "  <thead>\n",
       "    <tr style=\"text-align: right;\">\n",
       "      <th></th>\n",
       "      <th>forearm</th>\n",
       "      <th>times</th>\n",
       "      <th>vel_mean</th>\n",
       "      <th>vel_std</th>\n",
       "    </tr>\n",
       "  </thead>\n",
       "  <tbody>\n",
       "    <tr>\n",
       "      <th>p1</th>\n",
       "      <td>45.0</td>\n",
       "      <td>[9.7, 9.8, 10.1]</td>\n",
       "      <td>45.621525</td>\n",
       "      <td>0.778889</td>\n",
       "    </tr>\n",
       "    <tr>\n",
       "      <th>p2</th>\n",
       "      <td>47.0</td>\n",
       "      <td>[14.2, 12.4, 13.6]</td>\n",
       "      <td>35.186880</td>\n",
       "      <td>2.011131</td>\n",
       "    </tr>\n",
       "    <tr>\n",
       "      <th>p3</th>\n",
       "      <td>50.0</td>\n",
       "      <td>[8.0, 8.3, 8.2]</td>\n",
       "      <td>61.238858</td>\n",
       "      <td>0.940846</td>\n",
       "    </tr>\n",
       "    <tr>\n",
       "      <th>p4</th>\n",
       "      <td>48.0</td>\n",
       "      <td>[10.2, 8.0, 10.6]</td>\n",
       "      <td>50.780614</td>\n",
       "      <td>6.559277</td>\n",
       "    </tr>\n",
       "  </tbody>\n",
       "</table>\n",
       "</div>"
      ],
      "text/plain": [
       "   forearm               times   vel_mean   vel_std\n",
       "p1    45.0    [9.7, 9.8, 10.1]  45.621525  0.778889\n",
       "p2    47.0  [14.2, 12.4, 13.6]  35.186880  2.011131\n",
       "p3    50.0     [8.0, 8.3, 8.2]  61.238858  0.940846\n",
       "p4    48.0   [10.2, 8.0, 10.6]  50.780614  6.559277"
      ]
     },
     "execution_count": 5,
     "metadata": {},
     "output_type": "execute_result"
    }
   ],
   "source": [
    "# We are passing the data of all patients into the function at once\n",
    "vel_mean, vel_std = nerve_conduction_velocity(times, forearms)\n",
    "\n",
    "# Add the new columns back to the DataFrame for nicer visualisation\n",
    "measurements['vel_mean'] = vel_mean\n",
    "measurements['vel_std'] = vel_std\n",
    "\n",
    "measurements"
   ]
  },
  {
   "cell_type": "code",
   "execution_count": 6,
   "metadata": {
    "execution": {
     "iopub.execute_input": "2021-10-07T11:04:25.023986Z",
     "iopub.status.busy": "2021-10-07T11:04:25.022752Z",
     "iopub.status.idle": "2021-10-07T11:04:25.027301Z",
     "shell.execute_reply": "2021-10-07T11:04:25.027784Z"
    }
   },
   "outputs": [
    {
     "data": {
      "text/html": [
       "<div>\n",
       "<style scoped>\n",
       "    .dataframe tbody tr th:only-of-type {\n",
       "        vertical-align: middle;\n",
       "    }\n",
       "\n",
       "    .dataframe tbody tr th {\n",
       "        vertical-align: top;\n",
       "    }\n",
       "\n",
       "    .dataframe thead th {\n",
       "        text-align: right;\n",
       "    }\n",
       "</style>\n",
       "<table border=\"1\" class=\"dataframe\">\n",
       "  <thead>\n",
       "    <tr style=\"text-align: right;\">\n",
       "      <th></th>\n",
       "      <th>forearm</th>\n",
       "      <th>times</th>\n",
       "      <th>vel_mean</th>\n",
       "      <th>vel_std</th>\n",
       "      <th>normal</th>\n",
       "    </tr>\n",
       "  </thead>\n",
       "  <tbody>\n",
       "    <tr>\n",
       "      <th>p1</th>\n",
       "      <td>45.0</td>\n",
       "      <td>[9.7, 9.8, 10.1]</td>\n",
       "      <td>45.621525</td>\n",
       "      <td>0.778889</td>\n",
       "      <td>True</td>\n",
       "    </tr>\n",
       "    <tr>\n",
       "      <th>p2</th>\n",
       "      <td>47.0</td>\n",
       "      <td>[14.2, 12.4, 13.6]</td>\n",
       "      <td>35.186880</td>\n",
       "      <td>2.011131</td>\n",
       "      <td>False</td>\n",
       "    </tr>\n",
       "    <tr>\n",
       "      <th>p3</th>\n",
       "      <td>50.0</td>\n",
       "      <td>[8.0, 8.3, 8.2]</td>\n",
       "      <td>61.238858</td>\n",
       "      <td>0.940846</td>\n",
       "      <td>True</td>\n",
       "    </tr>\n",
       "    <tr>\n",
       "      <th>p4</th>\n",
       "      <td>48.0</td>\n",
       "      <td>[10.2, 8.0, 10.6]</td>\n",
       "      <td>50.780614</td>\n",
       "      <td>6.559277</td>\n",
       "      <td>True</td>\n",
       "    </tr>\n",
       "  </tbody>\n",
       "</table>\n",
       "</div>"
      ],
      "text/plain": [
       "   forearm               times   vel_mean   vel_std  normal\n",
       "p1    45.0    [9.7, 9.8, 10.1]  45.621525  0.778889    True\n",
       "p2    47.0  [14.2, 12.4, 13.6]  35.186880  2.011131   False\n",
       "p3    50.0     [8.0, 8.3, 8.2]  61.238858  0.940846    True\n",
       "p4    48.0   [10.2, 8.0, 10.6]  50.780614  6.559277    True"
      ]
     },
     "execution_count": 6,
     "metadata": {},
     "output_type": "execute_result"
    }
   ],
   "source": [
    "# Create a new column that indicates if a patient has normal or abnormal nerve conduction velocity\n",
    "### BEGIN SOLUTION\n",
    "measurements['normal'] = measurements.vel_mean.between(45, 70)\n",
    "### END SOLUTION\n",
    "measurements"
   ]
  },
  {
   "cell_type": "markdown",
   "metadata": {},
   "source": [
    "## Exercise 2.1: Import Data and Visualisation\n",
    "\n",
    "The two most common data formats you will encounter in biosignal analysis are `csv` and `hdf5`.\n",
    "The former is usually used for smaller amounts of data that fit into a table format.\n",
    "The big advantage of `csv` files is that you can view them with any text editor.\n",
    "However, `csv` files tend to be large compared to other file formats, because the stored data is not compressed.\n",
    "\n",
    "This is where HDF5 shines. It uses a compressed format and can store metadata together with the raw measurement values.\n",
    "However, you need special readers to open HDF5 files.\n",
    "\n",
    "Python can handle both filetypes easily.\n",
    "CSV is supported by Pandas (and Numpy) directly and the package `h5py` can be used to load HDF5 files.\n",
    "Have a look at the supplementary notebook `HDF5_reminder.ipynb` to learn about the latter.\n",
    "\n",
    "a) In the folder `./data` 3 biosignals are stored in different file formats.\n",
    "Load each of them by filling in the missing lines of code below.\n",
    "\n",
    "b) Adapt the index of each DataFrame so that it represents seconds and not samples. The sampling information is provided in the skeleton code.\n",
    "\n",
    "c) Plot each Biosignal with an appropriate x axis. Tip: You can use the plot functionality of pandas to easily plot the DataFrame.\n",
    "\n",
    "d) Can you guess which type of biosignal each one is? Give each plot a title with the name of the biosignal.\n"
   ]
  },
  {
   "cell_type": "markdown",
   "metadata": {},
   "source": [
    "### Solution:\n",
    "\n",
    "a - c) See code\n",
    "\n",
    "d)\n",
    "- *Signal 1* is a human gait signal recorded with an intertial measurement unit (IMU) attached to the shoe. The most characteristic part of the signal is the `gyr_y` (rotation rate around the lateral axis). This pattern is commenly used to identify strides in such a signal.\n",
    "\n",
    "- *Signal 2* is an EKG signal. You can easily identify the individual QRS complexes. As you may noted, the baseline of the signal is drifting. This is a common problem with EKG signals and can for example be caused by changes in temperature. We will learn in a later exercise, how to deal with this \"low frequency\" disturbances of a signal.\n",
    "\n",
    "- *Signal 3* is an EMG signal recorded during a leg exercise. This is hard to tell from the data itself. But luckely the h5 file provides enough metadata to solve this mistery."
   ]
  },
  {
   "cell_type": "code",
   "execution_count": 7,
   "metadata": {
    "execution": {
     "iopub.execute_input": "2021-10-07T11:04:25.034047Z",
     "iopub.status.busy": "2021-10-07T11:04:25.032959Z",
     "iopub.status.idle": "2021-10-07T11:04:25.035380Z",
     "shell.execute_reply": "2021-10-07T11:04:25.036122Z"
    }
   },
   "outputs": [],
   "source": [
    "from pathlib import Path  # We use this so that the path works on Win and Mac"
   ]
  },
  {
   "cell_type": "code",
   "execution_count": 8,
   "metadata": {
    "execution": {
     "iopub.execute_input": "2021-10-07T11:04:25.043607Z",
     "iopub.status.busy": "2021-10-07T11:04:25.042479Z",
     "iopub.status.idle": "2021-10-07T11:04:25.062539Z",
     "shell.execute_reply": "2021-10-07T11:04:25.062105Z"
    }
   },
   "outputs": [
    {
     "data": {
      "text/html": [
       "<div>\n",
       "<style scoped>\n",
       "    .dataframe tbody tr th:only-of-type {\n",
       "        vertical-align: middle;\n",
       "    }\n",
       "\n",
       "    .dataframe tbody tr th {\n",
       "        vertical-align: top;\n",
       "    }\n",
       "\n",
       "    .dataframe thead th {\n",
       "        text-align: right;\n",
       "    }\n",
       "</style>\n",
       "<table border=\"1\" class=\"dataframe\">\n",
       "  <thead>\n",
       "    <tr style=\"text-align: right;\">\n",
       "      <th></th>\n",
       "      <th>gyr_x</th>\n",
       "      <th>gyr_y</th>\n",
       "      <th>gyr_z</th>\n",
       "      <th>acc_x</th>\n",
       "      <th>acc_y</th>\n",
       "      <th>acc_z</th>\n",
       "    </tr>\n",
       "    <tr>\n",
       "      <th>time [s]</th>\n",
       "      <th></th>\n",
       "      <th></th>\n",
       "      <th></th>\n",
       "      <th></th>\n",
       "      <th></th>\n",
       "      <th></th>\n",
       "    </tr>\n",
       "  </thead>\n",
       "  <tbody>\n",
       "    <tr>\n",
       "      <th>0.000000</th>\n",
       "      <td>-50.537109</td>\n",
       "      <td>362.854004</td>\n",
       "      <td>-25.817871</td>\n",
       "      <td>0.250000</td>\n",
       "      <td>-0.332031</td>\n",
       "      <td>2.442871</td>\n",
       "    </tr>\n",
       "    <tr>\n",
       "      <th>0.004883</th>\n",
       "      <td>-55.847168</td>\n",
       "      <td>352.783203</td>\n",
       "      <td>-36.010742</td>\n",
       "      <td>0.249512</td>\n",
       "      <td>-0.270508</td>\n",
       "      <td>2.516602</td>\n",
       "    </tr>\n",
       "    <tr>\n",
       "      <th>0.009766</th>\n",
       "      <td>-60.302734</td>\n",
       "      <td>341.552734</td>\n",
       "      <td>-44.921875</td>\n",
       "      <td>0.306641</td>\n",
       "      <td>-0.209961</td>\n",
       "      <td>2.681152</td>\n",
       "    </tr>\n",
       "    <tr>\n",
       "      <th>0.014648</th>\n",
       "      <td>-58.410645</td>\n",
       "      <td>330.017090</td>\n",
       "      <td>-52.246094</td>\n",
       "      <td>0.321777</td>\n",
       "      <td>-0.140625</td>\n",
       "      <td>2.857910</td>\n",
       "    </tr>\n",
       "    <tr>\n",
       "      <th>0.019531</th>\n",
       "      <td>-55.114746</td>\n",
       "      <td>322.082520</td>\n",
       "      <td>-58.715820</td>\n",
       "      <td>0.296387</td>\n",
       "      <td>-0.079590</td>\n",
       "      <td>2.981934</td>\n",
       "    </tr>\n",
       "  </tbody>\n",
       "</table>\n",
       "</div>"
      ],
      "text/plain": [
       "              gyr_x       gyr_y      gyr_z     acc_x     acc_y     acc_z\n",
       "time [s]                                                                \n",
       "0.000000 -50.537109  362.854004 -25.817871  0.250000 -0.332031  2.442871\n",
       "0.004883 -55.847168  352.783203 -36.010742  0.249512 -0.270508  2.516602\n",
       "0.009766 -60.302734  341.552734 -44.921875  0.306641 -0.209961  2.681152\n",
       "0.014648 -58.410645  330.017090 -52.246094  0.321777 -0.140625  2.857910\n",
       "0.019531 -55.114746  322.082520 -58.715820  0.296387 -0.079590  2.981934"
      ]
     },
     "execution_count": 8,
     "metadata": {},
     "output_type": "execute_result"
    }
   ],
   "source": [
    "# Dataset 1\n",
    "ds1_path = Path('./data/signal1.csv')\n",
    "\n",
    "# Load dataset 1 into the variable ds1 as pandas DataFrame\n",
    "### BEGIN SOLUTION\n",
    "ds1 = pd.read_csv(ds1_path, header=0, index_col=0)\n",
    "### END SOLUTION\n",
    "# Adapt the index to seconds. Signal 1: sampling_rate = 204.8 Hz\n",
    "s1_sampling_rate = 204.8 # Hz\n",
    "### BEGIN SOLUTION\n",
    "ds1.index /= s1_sampling_rate\n",
    "ds1.index -= ds1.index[0]  # Optional\n",
    "### END SOLUTION\n",
    "ds1.index.name = 'time [s]'\n",
    "ds1.head()"
   ]
  },
  {
   "cell_type": "code",
   "execution_count": 9,
   "metadata": {
    "execution": {
     "iopub.execute_input": "2021-10-07T11:04:25.068147Z",
     "iopub.status.busy": "2021-10-07T11:04:25.067384Z",
     "iopub.status.idle": "2021-10-07T11:04:25.089919Z",
     "shell.execute_reply": "2021-10-07T11:04:25.090557Z"
    }
   },
   "outputs": [
    {
     "data": {
      "text/html": [
       "<div>\n",
       "<style scoped>\n",
       "    .dataframe tbody tr th:only-of-type {\n",
       "        vertical-align: middle;\n",
       "    }\n",
       "\n",
       "    .dataframe tbody tr th {\n",
       "        vertical-align: top;\n",
       "    }\n",
       "\n",
       "    .dataframe thead th {\n",
       "        text-align: right;\n",
       "    }\n",
       "</style>\n",
       "<table border=\"1\" class=\"dataframe\">\n",
       "  <thead>\n",
       "    <tr style=\"text-align: right;\">\n",
       "      <th></th>\n",
       "      <th>0</th>\n",
       "    </tr>\n",
       "    <tr>\n",
       "      <th>time [s]</th>\n",
       "      <th></th>\n",
       "    </tr>\n",
       "  </thead>\n",
       "  <tbody>\n",
       "    <tr>\n",
       "      <th>0.00000</th>\n",
       "      <td>-1478.8</td>\n",
       "    </tr>\n",
       "    <tr>\n",
       "      <th>0.00048</th>\n",
       "      <td>-1478.8</td>\n",
       "    </tr>\n",
       "    <tr>\n",
       "      <th>0.00096</th>\n",
       "      <td>-1478.8</td>\n",
       "    </tr>\n",
       "    <tr>\n",
       "      <th>0.00144</th>\n",
       "      <td>-1478.8</td>\n",
       "    </tr>\n",
       "    <tr>\n",
       "      <th>0.00192</th>\n",
       "      <td>-1478.8</td>\n",
       "    </tr>\n",
       "  </tbody>\n",
       "</table>\n",
       "</div>"
      ],
      "text/plain": [
       "               0\n",
       "time [s]        \n",
       "0.00000  -1478.8\n",
       "0.00048  -1478.8\n",
       "0.00096  -1478.8\n",
       "0.00144  -1478.8\n",
       "0.00192  -1478.8"
      ]
     },
     "execution_count": 9,
     "metadata": {},
     "output_type": "execute_result"
    }
   ],
   "source": [
    "# Dataset 2\n",
    "ds2_path = Path('./data/signal2.txt')\n",
    "\n",
    "# Load dataset 1 into the variable ds2 as pandas DataFrame\n",
    "### BEGIN SOLUTION\n",
    "ds2 = pd.read_csv(ds2_path, header=None)\n",
    "### END SOLUTION\n",
    "# Adapt the index to seconds. Signal 2: sampling_time = 0.48ms\n",
    "s2_sampling_time = 0.48 # ms\n",
    "### BEGIN SOLUTION\n",
    "ds2.index *= s2_sampling_time / 1000\n",
    "### END SOLUTION\n",
    "ds2.index.name = 'time [s]'\n",
    "ds2.head()"
   ]
  },
  {
   "cell_type": "code",
   "execution_count": 10,
   "metadata": {
    "execution": {
     "iopub.execute_input": "2021-10-07T11:04:25.096504Z",
     "iopub.status.busy": "2021-10-07T11:04:25.095714Z",
     "iopub.status.idle": "2021-10-07T11:04:25.135433Z",
     "shell.execute_reply": "2021-10-07T11:04:25.136397Z"
    }
   },
   "outputs": [
    {
     "data": {
      "text/html": [
       "<div>\n",
       "<style scoped>\n",
       "    .dataframe tbody tr th:only-of-type {\n",
       "        vertical-align: middle;\n",
       "    }\n",
       "\n",
       "    .dataframe tbody tr th {\n",
       "        vertical-align: top;\n",
       "    }\n",
       "\n",
       "    .dataframe thead th {\n",
       "        text-align: right;\n",
       "    }\n",
       "</style>\n",
       "<table border=\"1\" class=\"dataframe\">\n",
       "  <thead>\n",
       "    <tr style=\"text-align: right;\">\n",
       "      <th></th>\n",
       "      <th>0</th>\n",
       "    </tr>\n",
       "    <tr>\n",
       "      <th>time [s]</th>\n",
       "      <th></th>\n",
       "    </tr>\n",
       "  </thead>\n",
       "  <tbody>\n",
       "    <tr>\n",
       "      <th>0.0000</th>\n",
       "      <td>0.177917</td>\n",
       "    </tr>\n",
       "    <tr>\n",
       "      <th>0.0005</th>\n",
       "      <td>0.172958</td>\n",
       "    </tr>\n",
       "    <tr>\n",
       "      <th>0.0010</th>\n",
       "      <td>0.194855</td>\n",
       "    </tr>\n",
       "    <tr>\n",
       "      <th>0.0015</th>\n",
       "      <td>0.211258</td>\n",
       "    </tr>\n",
       "    <tr>\n",
       "      <th>0.0020</th>\n",
       "      <td>0.183716</td>\n",
       "    </tr>\n",
       "  </tbody>\n",
       "</table>\n",
       "</div>"
      ],
      "text/plain": [
       "                 0\n",
       "time [s]          \n",
       "0.0000    0.177917\n",
       "0.0005    0.172958\n",
       "0.0010    0.194855\n",
       "0.0015    0.211258\n",
       "0.0020    0.183716"
      ]
     },
     "execution_count": 10,
     "metadata": {},
     "output_type": "execute_result"
    }
   ],
   "source": [
    "import h5py\n",
    "# Dataset 3\n",
    "ds3_path = Path('./data/signal3.h5')\n",
    "\n",
    "# Load dataset 3 and store the \"tibialis\" recording in the variable ds3 as DataFrame\n",
    "### BEGIN SOLUTION\n",
    "h5_object = h5py.File(ds3_path, 'r')\n",
    "ds3 = h5_object['trial1/muscles/tibialis'][()]\n",
    "ds3 = pd.DataFrame(ds3)\n",
    "### END SOLUTION\n",
    "# Adapt the index to seconds. Signal 3: Extract the sampling rate from the h5 file.\n",
    "### BEGIN SOLUTION\n",
    "s3_sampling_rate = h5_object['trial1/muscles/tibialis'].attrs['sampling rate']\n",
    "ds3.index /= s3_sampling_rate\n",
    "### END SOLUTION\n",
    "ds3.index.name = 'time [s]'\n",
    "ds3.head()"
   ]
  },
  {
   "cell_type": "code",
   "execution_count": 11,
   "metadata": {
    "execution": {
     "iopub.execute_input": "2021-10-07T11:04:25.145626Z",
     "iopub.status.busy": "2021-10-07T11:04:25.143184Z",
     "iopub.status.idle": "2021-10-07T11:04:25.393776Z",
     "shell.execute_reply": "2021-10-07T11:04:25.394242Z"
    }
   },
   "outputs": [
    {
     "data": {
      "application/vnd.jupyter.widget-view+json": {
       "model_id": "70f9ce8a979342b181daaf4a85ecc46e",
       "version_major": 2,
       "version_minor": 0
      },
      "image/png": "[encoded data removed]",
      "text/plain": [
       "Canvas(toolbar=Toolbar(toolitems=[('Home', 'Reset original view', 'home', 'home'), ('Back', 'Back to previous …"
      ]
     },
     "metadata": {},
     "output_type": "display_data"
    }
   ],
   "source": [
    "# Plot Signal 1\n",
    "### BEGIN SOLUTION\n",
    "ds1.plot()\n",
    "plt.title('Human Gait Signal');\n",
    "### END SOLUTION\n"
   ]
  },
  {
   "cell_type": "code",
   "execution_count": 12,
   "metadata": {
    "execution": {
     "iopub.execute_input": "2021-10-07T11:04:25.397821Z",
     "iopub.status.busy": "2021-10-07T11:04:25.397170Z",
     "iopub.status.idle": "2021-10-07T11:04:25.555306Z",
     "shell.execute_reply": "2021-10-07T11:04:25.555775Z"
    }
   },
   "outputs": [
    {
     "data": {
      "application/vnd.jupyter.widget-view+json": {
       "model_id": "16eaabe3da044871b91b1cb8fd5e907c",
       "version_major": 2,
       "version_minor": 0
      },
      "image/png": "[encoded data removed]",
      "text/plain": [
       "Canvas(toolbar=Toolbar(toolitems=[('Home', 'Reset original view', 'home', 'home'), ('Back', 'Back to previous …"
      ]
     },
     "metadata": {},
     "output_type": "display_data"
    }
   ],
   "source": [
    "# Plot Signal 2\n",
    "### BEGIN SOLUTION\n",
    "ds2.plot()\n",
    "plt.title('EKG');\n",
    "### END SOLUTION"
   ]
  },
  {
   "cell_type": "code",
   "execution_count": 13,
   "metadata": {
    "execution": {
     "iopub.execute_input": "2021-10-07T11:04:25.571457Z",
     "iopub.status.busy": "2021-10-07T11:04:25.570785Z",
     "iopub.status.idle": "2021-10-07T11:04:25.682415Z",
     "shell.execute_reply": "2021-10-07T11:04:25.682844Z"
    }
   },
   "outputs": [
    {
     "data": {
      "application/vnd.jupyter.widget-view+json": {
       "model_id": "50eb5e1631cf421e963ed95bd5340147",
       "version_major": 2,
       "version_minor": 0
      },
      "image/png": "[encoded data removed]",
      "text/plain": [
       "Canvas(toolbar=Toolbar(toolitems=[('Home', 'Reset original view', 'home', 'home'), ('Back', 'Back to previous …"
      ]
     },
     "metadata": {},
     "output_type": "display_data"
    }
   ],
   "source": [
    "# Plot Signal 3\n",
    "### BEGIN SOLUTION\n",
    "ds3.plot()\n",
    "plt.title('EMG Tibialis');\n",
    "### END SOLUTION"
   ]
  },
  {
   "cell_type": "code",
   "execution_count": null,
   "metadata": {},
   "outputs": [],
   "source": []
  }
 ],
 "metadata": {
  "kernelspec": {
   "display_name": "Python 3 (ipykernel)",
   "language": "python",
   "name": "python3"
  },
  "language_info": {
   "codemirror_mode": {
    "name": "ipython",
    "version": 3
   },
   "file_extension": ".py",
   "mimetype": "text/x-python",
   "name": "python",
   "nbconvert_exporter": "python",
   "pygments_lexer": "ipython3",
   "version": "3.9.7"
  },
  "widgets": {
   "application/vnd.jupyter.widget-state+json": {
    "state": {
     "16eaabe3da044871b91b1cb8fd5e907c": {
      "model_module": "jupyter-matplotlib",
      "model_module_version": "^0.10.0",
      "model_name": "MPLCanvasModel",
      "state": {
       "_cursor": "pointer",
       "_dom_classes": [],
       "_figure_label": "Figure",
       "_height": 0,
       "_image_mode": "full",
       "_message": "",
       "_model_module": "jupyter-matplotlib",
       "_model_module_version": "^0.10.0",
       "_model_name": "MPLCanvasModel",
       "_rubberband_height": 0,
       "_rubberband_width": 0,
       "_rubberband_x": 0,
       "_rubberband_y": 0,
       "_view_count": null,
       "_view_module": "jupyter-matplotlib",
       "_view_module_version": "^0.10.0",
       "_view_name": "MPLCanvasView",
       "_width": 0,
       "capture_scroll": false,
       "footer_visible": true,
       "header_visible": true,
       "layout": "IPY_MODEL_3c1f7c9898d142829a389540fe8d21c0",
       "resizable": true,
       "toolbar": "IPY_MODEL_21cab58f20e749a98236cd83eff59879",
       "toolbar_position": "left",
       "toolbar_visible": true
      }
     },
     "21cab58f20e749a98236cd83eff59879": {
      "model_module": "jupyter-matplotlib",
      "model_module_version": "^0.10.0",
      "model_name": "ToolbarModel",
      "state": {
       "_current_action": "",
       "_dom_classes": [],
       "_model_module": "jupyter-matplotlib",
       "_model_module_version": "^0.10.0",
       "_model_name": "ToolbarModel",
       "_view_count": null,
       "_view_module": "jupyter-matplotlib",
       "_view_module_version": "^0.10.0",
       "_view_name": "ToolbarView",
       "button_style": "",
       "collapsed": true,
       "layout": "IPY_MODEL_e2c8076b9d49445d90cb1b4c4bce7094",
       "orientation": "vertical",
       "toolitems": [
        [
         "Home",
         "Reset original view",
         "home",
         "home"
        ],
        [
         "Back",
         "Back to previous view",
         "arrow-left",
         "back"
        ],
        [
         "Forward",
         "Forward to next view",
         "arrow-right",
         "forward"
        ],
        [
         "Pan",
         "Left button pans, Right button zooms\nx/y fixes axis, CTRL fixes aspect",
         "arrows",
         "pan"
        ],
        [
         "Zoom",
         "Zoom to rectangle\nx/y fixes axis, CTRL fixes aspect",
         "square-o",
         "zoom"
        ],
        [
         "Download",
         "Download plot",
         "floppy-o",
         "save_figure"
        ]
       ]
      }
     },
     "28a63ba9c76b4d52a1183def980e7965": {
      "model_module": "jupyter-matplotlib",
      "model_module_version": "^0.10.0",
      "model_name": "ToolbarModel",
      "state": {
       "_current_action": "",
       "_dom_classes": [],
       "_model_module": "jupyter-matplotlib",
       "_model_module_version": "^0.10.0",
       "_model_name": "ToolbarModel",
       "_view_count": null,
       "_view_module": "jupyter-matplotlib",
       "_view_module_version": "^0.10.0",
       "_view_name": "ToolbarView",
       "button_style": "",
       "collapsed": true,
       "layout": "IPY_MODEL_849381a31375431888a21472946eaa41",
       "orientation": "vertical",
       "toolitems": [
        [
         "Home",
         "Reset original view",
         "home",
         "home"
        ],
        [
         "Back",
         "Back to previous view",
         "arrow-left",
         "back"
        ],
        [
         "Forward",
         "Forward to next view",
         "arrow-right",
         "forward"
        ],
        [
         "Pan",
         "Left button pans, Right button zooms\nx/y fixes axis, CTRL fixes aspect",
         "arrows",
         "pan"
        ],
        [
         "Zoom",
         "Zoom to rectangle\nx/y fixes axis, CTRL fixes aspect",
         "square-o",
         "zoom"
        ],
        [
         "Download",
         "Download plot",
         "floppy-o",
         "save_figure"
        ]
       ]
      }
     },
     "2ce1bbd015a2487cb413778b20e1b589": {
      "model_module": "@jupyter-widgets/base",
      "model_module_version": "1.2.0",
      "model_name": "LayoutModel",
      "state": {
       "_model_module": "@jupyter-widgets/base",
       "_model_module_version": "1.2.0",
       "_model_name": "LayoutModel",
       "_view_count": null,
       "_view_module": "@jupyter-widgets/base",
       "_view_module_version": "1.2.0",
       "_view_name": "LayoutView",
       "align_content": null,
       "align_items": null,
       "align_self": null,
       "border": null,
       "bottom": null,
       "display": null,
       "flex": null,
       "flex_flow": null,
       "grid_area": null,
       "grid_auto_columns": null,
       "grid_auto_flow": null,
       "grid_auto_rows": null,
       "grid_column": null,
       "grid_gap": null,
       "grid_row": null,
       "grid_template_areas": null,
       "grid_template_columns": null,
       "grid_template_rows": null,
       "height": null,
       "justify_content": null,
       "justify_items": null,
       "left": null,
       "margin": null,
       "max_height": null,
       "max_width": null,
       "min_height": null,
       "min_width": null,
       "object_fit": null,
       "object_position": null,
       "order": null,
       "overflow": null,
       "overflow_x": null,
       "overflow_y": null,
       "padding": null,
       "right": null,
       "top": null,
       "visibility": null,
       "width": null
      }
     },
     "3c1f7c9898d142829a389540fe8d21c0": {
      "model_module": "@jupyter-widgets/base",
      "model_module_version": "1.2.0",
      "model_name": "LayoutModel",
      "state": {
       "_model_module": "@jupyter-widgets/base",
       "_model_module_version": "1.2.0",
       "_model_name": "LayoutModel",
       "_view_count": null,
       "_view_module": "@jupyter-widgets/base",
       "_view_module_version": "1.2.0",
       "_view_name": "LayoutView",
       "align_content": null,
       "align_items": null,
       "align_self": null,
       "border": null,
       "bottom": null,
       "display": null,
       "flex": null,
       "flex_flow": null,
       "grid_area": null,
       "grid_auto_columns": null,
       "grid_auto_flow": null,
       "grid_auto_rows": null,
       "grid_column": null,
       "grid_gap": null,
       "grid_row": null,
       "grid_template_areas": null,
       "grid_template_columns": null,
       "grid_template_rows": null,
       "height": null,
       "justify_content": null,
       "justify_items": null,
       "left": null,
       "margin": null,
       "max_height": null,
       "max_width": null,
       "min_height": null,
       "min_width": null,
       "object_fit": null,
       "object_position": null,
       "order": null,
       "overflow": null,
       "overflow_x": null,
       "overflow_y": null,
       "padding": null,
       "right": null,
       "top": null,
       "visibility": null,
       "width": null
      }
     },
     "3e690c16b1ec408d918de646d40ab8da": {
      "model_module": "@jupyter-widgets/base",
      "model_module_version": "1.2.0",
      "model_name": "LayoutModel",
      "state": {
       "_model_module": "@jupyter-widgets/base",
       "_model_module_version": "1.2.0",
       "_model_name": "LayoutModel",
       "_view_count": null,
       "_view_module": "@jupyter-widgets/base",
       "_view_module_version": "1.2.0",
       "_view_name": "LayoutView",
       "align_content": null,
       "align_items": null,
       "align_self": null,
       "border": null,
       "bottom": null,
       "display": null,
       "flex": null,
       "flex_flow": null,
       "grid_area": null,
       "grid_auto_columns": null,
       "grid_auto_flow": null,
       "grid_auto_rows": null,
       "grid_column": null,
       "grid_gap": null,
       "grid_row": null,
       "grid_template_areas": null,
       "grid_template_columns": null,
       "grid_template_rows": null,
       "height": null,
       "justify_content": null,
       "justify_items": null,
       "left": null,
       "margin": null,
       "max_height": null,
       "max_width": null,
       "min_height": null,
       "min_width": null,
       "object_fit": null,
       "object_position": null,
       "order": null,
       "overflow": null,
       "overflow_x": null,
       "overflow_y": null,
       "padding": null,
       "right": null,
       "top": null,
       "visibility": null,
       "width": null
      }
     },
     "50eb5e1631cf421e963ed95bd5340147": {
      "model_module": "jupyter-matplotlib",
      "model_module_version": "^0.10.0",
      "model_name": "MPLCanvasModel",
      "state": {
       "_cursor": "pointer",
       "_dom_classes": [],
       "_figure_label": "Figure",
       "_height": 0,
       "_image_mode": "full",
       "_message": "",
       "_model_module": "jupyter-matplotlib",
       "_model_module_version": "^0.10.0",
       "_model_name": "MPLCanvasModel",
       "_rubberband_height": 0,
       "_rubberband_width": 0,
       "_rubberband_x": 0,
       "_rubberband_y": 0,
       "_view_count": null,
       "_view_module": "jupyter-matplotlib",
       "_view_module_version": "^0.10.0",
       "_view_name": "MPLCanvasView",
       "_width": 0,
       "capture_scroll": false,
       "footer_visible": true,
       "header_visible": true,
       "layout": "IPY_MODEL_3e690c16b1ec408d918de646d40ab8da",
       "resizable": true,
       "toolbar": "IPY_MODEL_edbd6883f7574c4790bc4b8aeb8f9e1f",
       "toolbar_position": "left",
       "toolbar_visible": true
      }
     },
     "70f9ce8a979342b181daaf4a85ecc46e": {
      "model_module": "jupyter-matplotlib",
      "model_module_version": "^0.10.0",
      "model_name": "MPLCanvasModel",
      "state": {
       "_cursor": "pointer",
       "_dom_classes": [],
       "_figure_label": "Figure",
       "_height": 0,
       "_image_mode": "full",
       "_message": "",
       "_model_module": "jupyter-matplotlib",
       "_model_module_version": "^0.10.0",
       "_model_name": "MPLCanvasModel",
       "_rubberband_height": 0,
       "_rubberband_width": 0,
       "_rubberband_x": 0,
       "_rubberband_y": 0,
       "_view_count": null,
       "_view_module": "jupyter-matplotlib",
       "_view_module_version": "^0.10.0",
       "_view_name": "MPLCanvasView",
       "_width": 0,
       "capture_scroll": false,
       "footer_visible": true,
       "header_visible": true,
       "layout": "IPY_MODEL_c6575f6d5b0a473699c431f41af29202",
       "resizable": true,
       "toolbar": "IPY_MODEL_28a63ba9c76b4d52a1183def980e7965",
       "toolbar_position": "left",
       "toolbar_visible": true
      }
     },
     "849381a31375431888a21472946eaa41": {
      "model_module": "@jupyter-widgets/base",
      "model_module_version": "1.2.0",
      "model_name": "LayoutModel",
      "state": {
       "_model_module": "@jupyter-widgets/base",
       "_model_module_version": "1.2.0",
       "_model_name": "LayoutModel",
       "_view_count": null,
       "_view_module": "@jupyter-widgets/base",
       "_view_module_version": "1.2.0",
       "_view_name": "LayoutView",
       "align_content": null,
       "align_items": null,
       "align_self": null,
       "border": null,
       "bottom": null,
       "display": null,
       "flex": null,
       "flex_flow": null,
       "grid_area": null,
       "grid_auto_columns": null,
       "grid_auto_flow": null,
       "grid_auto_rows": null,
       "grid_column": null,
       "grid_gap": null,
       "grid_row": null,
       "grid_template_areas": null,
       "grid_template_columns": null,
       "grid_template_rows": null,
       "height": null,
       "justify_content": null,
       "justify_items": null,
       "left": null,
       "margin": null,
       "max_height": null,
       "max_width": null,
       "min_height": null,
       "min_width": null,
       "object_fit": null,
       "object_position": null,
       "order": null,
       "overflow": null,
       "overflow_x": null,
       "overflow_y": null,
       "padding": null,
       "right": null,
       "top": null,
       "visibility": null,
       "width": null
      }
     },
     "c6575f6d5b0a473699c431f41af29202": {
      "model_module": "@jupyter-widgets/base",
      "model_module_version": "1.2.0",
      "model_name": "LayoutModel",
      "state": {
       "_model_module": "@jupyter-widgets/base",
       "_model_module_version": "1.2.0",
       "_model_name": "LayoutModel",
       "_view_count": null,
       "_view_module": "@jupyter-widgets/base",
       "_view_module_version": "1.2.0",
       "_view_name": "LayoutView",
       "align_content": null,
       "align_items": null,
       "align_self": null,
       "border": null,
       "bottom": null,
       "display": null,
       "flex": null,
       "flex_flow": null,
       "grid_area": null,
       "grid_auto_columns": null,
       "grid_auto_flow": null,
       "grid_auto_rows": null,
       "grid_column": null,
       "grid_gap": null,
       "grid_row": null,
       "grid_template_areas": null,
       "grid_template_columns": null,
       "grid_template_rows": null,
       "height": null,
       "justify_content": null,
       "justify_items": null,
       "left": null,
       "margin": null,
       "max_height": null,
       "max_width": null,
       "min_height": null,
       "min_width": null,
       "object_fit": null,
       "object_position": null,
       "order": null,
       "overflow": null,
       "overflow_x": null,
       "overflow_y": null,
       "padding": null,
       "right": null,
       "top": null,
       "visibility": null,
       "width": null
      }
     },
     "e2c8076b9d49445d90cb1b4c4bce7094": {
      "model_module": "@jupyter-widgets/base",
      "model_module_version": "1.2.0",
      "model_name": "LayoutModel",
      "state": {
       "_model_module": "@jupyter-widgets/base",
       "_model_module_version": "1.2.0",
       "_model_name": "LayoutModel",
       "_view_count": null,
       "_view_module": "@jupyter-widgets/base",
       "_view_module_version": "1.2.0",
       "_view_name": "LayoutView",
       "align_content": null,
       "align_items": null,
       "align_self": null,
       "border": null,
       "bottom": null,
       "display": null,
       "flex": null,
       "flex_flow": null,
       "grid_area": null,
       "grid_auto_columns": null,
       "grid_auto_flow": null,
       "grid_auto_rows": null,
       "grid_column": null,
       "grid_gap": null,
       "grid_row": null,
       "grid_template_areas": null,
       "grid_template_columns": null,
       "grid_template_rows": null,
       "height": null,
       "justify_content": null,
       "justify_items": null,
       "left": null,
       "margin": null,
       "max_height": null,
       "max_width": null,
       "min_height": null,
       "min_width": null,
       "object_fit": null,
       "object_position": null,
       "order": null,
       "overflow": null,
       "overflow_x": null,
       "overflow_y": null,
       "padding": null,
       "right": null,
       "top": null,
       "visibility": null,
       "width": null
      }
     },
     "edbd6883f7574c4790bc4b8aeb8f9e1f": {
      "model_module": "jupyter-matplotlib",
      "model_module_version": "^0.10.0",
      "model_name": "ToolbarModel",
      "state": {
       "_current_action": "",
       "_dom_classes": [],
       "_model_module": "jupyter-matplotlib",
       "_model_module_version": "^0.10.0",
       "_model_name": "ToolbarModel",
       "_view_count": null,
       "_view_module": "jupyter-matplotlib",
       "_view_module_version": "^0.10.0",
       "_view_name": "ToolbarView",
       "button_style": "",
       "collapsed": true,
       "layout": "IPY_MODEL_2ce1bbd015a2487cb413778b20e1b589",
       "orientation": "vertical",
       "toolitems": [
        [
         "Home",
         "Reset original view",
         "home",
         "home"
        ],
        [
         "Back",
         "Back to previous view",
         "arrow-left",
         "back"
        ],
        [
         "Forward",
         "Forward to next view",
         "arrow-right",
         "forward"
        ],
        [
         "Pan",
         "Left button pans, Right button zooms\nx/y fixes axis, CTRL fixes aspect",
         "arrows",
         "pan"
        ],
        [
         "Zoom",
         "Zoom to rectangle\nx/y fixes axis, CTRL fixes aspect",
         "square-o",
         "zoom"
        ],
        [
         "Download",
         "Download plot",
         "floppy-o",
         "save_figure"
        ]
       ]
      }
     }
    },
    "version_major": 2,
    "version_minor": 0
   }
  }
 },
 "nbformat": 4,
 "nbformat_minor": 4
}
