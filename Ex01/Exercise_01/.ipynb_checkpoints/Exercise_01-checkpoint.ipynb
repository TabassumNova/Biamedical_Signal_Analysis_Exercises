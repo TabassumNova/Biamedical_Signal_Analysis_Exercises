{
 "cells": [
  {
   "cell_type": "code",
   "execution_count": 1,
   "metadata": {},
   "outputs": [
    {
     "name": "stdout",
     "output_type": "stream",
     "text": [
      "Warning: Cannot change to a different GUI toolkit: notebook. Using widget instead.\n"
     ]
    }
   ],
   "source": [
    "# Imports und basic setup\n",
    "# Try to use the Lab Widgets or if not possible the NB widgets and if nothing works just static plots\n",
    "try:\n",
    "    %matplotlib widget\n",
    "except:\n",
    "    try:\n",
    "        %matplotlib notebook\n",
    "    except:\n",
    "        %matplotlib inline\n",
    "import matplotlib.pyplot as plt\n",
    "import pandas as pd\n",
    "import numpy as np"
   ]
  },
  {
   "cell_type": "markdown",
   "metadata": {},
   "source": [
    "## Exercise 1.1: Nerve Conduction Velocity\n",
    "\n",
    "To test for Guillain-Barré syndrome (GBS) the nerve conduction velocity of multiple patients was measured.\n",
    "The test records the time a electrical signal takes to travel along the forearm of a patient from the elbow to the wrist.\n",
    "To reduce the potential of measurement errors, each patient was measured 3 times.\n",
    "The results in $ms$ are provided as the `measurements` DataFrame below.\n",
    "The same DataFrame also provides the length of the forearm in $cm$.\n",
    "\n",
    "a) Create a function that takes the data of a all patient as input and calculates the mean and the std of the patient's nerve conduction velocity in $m/s$.\n",
    "\n",
    "Tip: Try to make use of `numpy`'s vectorisation to perform the calculation without using an explicit loop.\n",
    "\n",
    "b) Which of these patients might has GBS? Assume a healthy velocity of around 45-70 $m/s$."
   ]
  },
  {
   "cell_type": "code",
   "execution_count": 2,
   "metadata": {},
   "outputs": [
    {
     "data": {
      "text/html": [
       "<div>\n",
       "<style scoped>\n",
       "    .dataframe tbody tr th:only-of-type {\n",
       "        vertical-align: middle;\n",
       "    }\n",
       "\n",
       "    .dataframe tbody tr th {\n",
       "        vertical-align: top;\n",
       "    }\n",
       "\n",
       "    .dataframe thead th {\n",
       "        text-align: right;\n",
       "    }\n",
       "</style>\n",
       "<table border=\"1\" class=\"dataframe\">\n",
       "  <thead>\n",
       "    <tr style=\"text-align: right;\">\n",
       "      <th></th>\n",
       "      <th>forearm</th>\n",
       "      <th>times</th>\n",
       "    </tr>\n",
       "  </thead>\n",
       "  <tbody>\n",
       "    <tr>\n",
       "      <th>p1</th>\n",
       "      <td>45.0</td>\n",
       "      <td>[9.7, 9.8, 10.1]</td>\n",
       "    </tr>\n",
       "    <tr>\n",
       "      <th>p2</th>\n",
       "      <td>47.0</td>\n",
       "      <td>[14.2, 12.4, 13.6]</td>\n",
       "    </tr>\n",
       "    <tr>\n",
       "      <th>p3</th>\n",
       "      <td>50.0</td>\n",
       "      <td>[8.0, 8.3, 8.2]</td>\n",
       "    </tr>\n",
       "    <tr>\n",
       "      <th>p4</th>\n",
       "      <td>48.0</td>\n",
       "      <td>[10.2, 8.0, 10.6]</td>\n",
       "    </tr>\n",
       "  </tbody>\n",
       "</table>\n",
       "</div>"
      ],
      "text/plain": [
       "   forearm               times\n",
       "p1    45.0    [9.7, 9.8, 10.1]\n",
       "p2    47.0  [14.2, 12.4, 13.6]\n",
       "p3    50.0     [8.0, 8.3, 8.2]\n",
       "p4    48.0   [10.2, 8.0, 10.6]"
      ]
     },
     "execution_count": 2,
     "metadata": {},
     "output_type": "execute_result"
    }
   ],
   "source": [
    "measurements = {\n",
    "    'p1': {'forearm': 45., 'times': np.array([9.7, 9.8, 10.1]) },\n",
    "    'p2': {'forearm': 47., 'times': np.array([14.2, 12.4, 13.6]) },\n",
    "    'p3': {'forearm': 50., 'times': np.array([8. , 8.3, 8.2]) },\n",
    "    'p4': {'forearm': 48., 'times': np.array([10.2,  8. , 10.6]) },\n",
    "}\n",
    "\n",
    "# Convert to DataFrame for nicer visualisation\n",
    "measurements = pd.DataFrame(measurements).T\n",
    "measurements"
   ]
  },
  {
   "cell_type": "code",
   "execution_count": 3,
   "metadata": {
    "tags": []
   },
   "outputs": [
    {
     "name": "stdout",
     "output_type": "stream",
     "text": [
      "[[ 9.7  9.8 10.1]\n",
      " [14.2 12.4 13.6]\n",
      " [ 8.   8.3  8.2]\n",
      " [10.2  8.  10.6]]\n",
      "[45. 47. 50. 48.]\n"
     ]
    }
   ],
   "source": [
    "# Extract the values as numpy arrays for faster computations\n",
    "times = np.vstack(measurements.times.values)\n",
    "forearms = np.array(measurements.forearm.tolist())\n",
    "print(times)\n",
    "print(forearms)"
   ]
  },
  {
   "cell_type": "code",
   "execution_count": 4,
   "metadata": {},
   "outputs": [],
   "source": [
    "def nerve_conduction_velocity(times, forearm_length):\n",
    "    # TODO: YOUR CODE HERE\n",
    "    \n",
    "    \n",
    "    return vel_mean, vel_std"
   ]
  },
  {
   "cell_type": "code",
   "execution_count": null,
   "metadata": {},
   "outputs": [],
   "source": [
    "# We are passing the data of all patients into the function at once\n",
    "vel_mean, vel_std = nerve_conduction_velocity(times, forearms)\n",
    "\n",
    "# Add the new columns back to the DataFrame for nicer visualisation\n",
    "measurements['vel_mean'] = vel_mean\n",
    "measurements['vel_std'] = vel_std\n",
    "\n",
    "measurements"
   ]
  },
  {
   "cell_type": "code",
   "execution_count": null,
   "metadata": {},
   "outputs": [],
   "source": [
    "# Create a new column that indicates if a patient has normal or abnormal nerve conduction velocity\n",
    "# TODO: YOUR CODE HERE\n",
    "\n",
    "\n",
    "measurements"
   ]
  },
  {
   "cell_type": "markdown",
   "metadata": {},
   "source": [
    "## Exercise 2.1: Import Data and Visualisation\n",
    "\n",
    "The two most common data formats you will encounter in biosignal analysis are `csv` and `hdf5`.\n",
    "The former is usually used for smaller amounts of data that fit into a table format.\n",
    "The big advantage of `csv` files is that you can view them with any text editor.\n",
    "However, `csv` files tend to be large compared to other file formats, because the stored data is not compressed.\n",
    "\n",
    "This is where HDF5 shines. It uses a compressed format and can store metadata together with the raw measurement values.\n",
    "However, you need special readers to open HDF5 files.\n",
    "\n",
    "Python can handle both filetypes easily.\n",
    "CSV is supported by Pandas (and Numpy) directly and the package `h5py` can be used to load HDF5 files.\n",
    "Have a look at the supplementary notebook `HDF5_reminder.ipynb` to learn about the latter.\n",
    "\n",
    "a) In the folder `./data` 3 biosignals are stored in different file formats.\n",
    "Load each of them by filling in the missing lines of code below.\n",
    "\n",
    "b) Adapt the index of each DataFrame so that it represents seconds and not samples. The sampling information is provided in the skeleton code.\n",
    "\n",
    "c) Plot each Biosignal with an appropriate x axis. Tip: You can use the plot functionality of pandas to easily plot the DataFrame.\n",
    "\n",
    "d) Can you guess which type of biosignal each one is? Give each plot a title with the name of the biosignal.\n"
   ]
  },
  {
   "cell_type": "code",
   "execution_count": null,
   "metadata": {},
   "outputs": [],
   "source": [
    "from pathlib import Path  # We use this so that the path works on Win and Mac"
   ]
  },
  {
   "cell_type": "code",
   "execution_count": null,
   "metadata": {},
   "outputs": [],
   "source": [
    "# Dataset 1\n",
    "ds1_path = Path('./data/signal1.csv')\n",
    "\n",
    "# Load dataset 1 into the variable ds1 as pandas DataFrame\n",
    "# TODO: YOUR CODE HERE\n",
    "\n",
    "\n",
    "# Adapt the index to seconds. Signal 1: sampling_rate = 204.8 Hz\n",
    "s1_sampling_rate = 204.8 # Hz\n",
    "# TODO: YOUR CODE HERE\n",
    "\n",
    "\n",
    "ds1.index.name = 'time [s]'\n",
    "ds1.head()"
   ]
  },
  {
   "cell_type": "code",
   "execution_count": null,
   "metadata": {},
   "outputs": [],
   "source": [
    "# Dataset 2\n",
    "ds2_path = Path('./data/signal2.txt')\n",
    "\n",
    "# Load dataset 1 into the variable ds2 as pandas DataFrame\n",
    "# TODO: YOUR CODE HERE\n",
    "\n",
    "\n",
    "# Adapt the index to seconds. Signal 2: sampling_time = 0.48ms\n",
    "s2_sampling_time = 0.48 # ms\n",
    "# TODO: YOUR CODE HERE\n",
    "\n",
    "\n",
    "ds2.index.name = 'time [s]'\n",
    "ds2.head()"
   ]
  },
  {
   "cell_type": "code",
   "execution_count": null,
   "metadata": {},
   "outputs": [],
   "source": [
    "import h5py\n",
    "# Dataset 3\n",
    "ds3_path = Path('./data/signal3.h5')\n",
    "\n",
    "# Load dataset 3 and store the \"tibialis\" recording in the variable ds3 as DataFrame\n",
    "# TODO: YOUR CODE HERE\n",
    "\n",
    "\n",
    "# Adapt the index to seconds. Signal 3: Extract the sampling rate from the h5 file.\n",
    "# TODO: YOUR CODE HERE\n",
    "\n",
    "\n",
    "ds3.index.name = 'time [s]'\n",
    "ds3.head()"
   ]
  },
  {
   "cell_type": "code",
   "execution_count": null,
   "metadata": {},
   "outputs": [],
   "source": [
    "# Plot Signal 1\n",
    "# TODO: YOUR CODE HERE\n",
    "\n",
    "\n"
   ]
  },
  {
   "cell_type": "code",
   "execution_count": null,
   "metadata": {},
   "outputs": [],
   "source": [
    "# Plot Signal 2\n",
    "# TODO: YOUR CODE HERE\n",
    "\n"
   ]
  },
  {
   "cell_type": "code",
   "execution_count": null,
   "metadata": {},
   "outputs": [],
   "source": [
    "# Plot Signal 3\n",
    "# TODO: YOUR CODE HERE\n",
    "\n"
   ]
  },
  {
   "cell_type": "code",
   "execution_count": null,
   "metadata": {},
   "outputs": [],
   "source": []
  }
 ],
 "metadata": {
  "kernelspec": {
   "display_name": "Anaconda (new2)",
   "language": "python",
   "name": "anaconda-new2"
  },
  "language_info": {
   "codemirror_mode": {
    "name": "ipython",
    "version": 3
   },
   "file_extension": ".py",
   "mimetype": "text/x-python",
   "name": "python",
   "nbconvert_exporter": "python",
   "pygments_lexer": "ipython3",
   "version": "3.9.2"
  }
 },
 "nbformat": 4,
 "nbformat_minor": 4
}
