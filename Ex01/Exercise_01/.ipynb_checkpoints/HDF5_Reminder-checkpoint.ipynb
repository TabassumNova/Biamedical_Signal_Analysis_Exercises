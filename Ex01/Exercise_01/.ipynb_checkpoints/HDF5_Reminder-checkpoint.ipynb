{
 "cells": [
  {
   "cell_type": "markdown",
   "metadata": {},
   "source": [
    "# Working with hdf5 files"
   ]
  },
  {
   "cell_type": "markdown",
   "metadata": {},
   "source": [
    "As dicussed before, `hdf5` is a good format to store sensor data, as it allows to store meta data together with data in a compressed format (besides other advantages compared to plain text storage).\n",
    "However, this also makes reading and working with the data more complicated, than just reading in a plain `csv` file.\n",
    "In the following you can find a short guideline and some code recepies to simplify handling `hdf5` files."
   ]
  },
  {
   "cell_type": "markdown",
   "metadata": {},
   "source": [
    "## I have an hdf5 file without further documentation - What should I do?\n",
    "\n",
    "Because of the nested nature of the `hdf5` file format you first need to figure out where the relevant data and meta data is stored inside of the file's tree structure.  \n",
    "This can be done by using a graphical hdf5-viewer.\n",
    "We recommend [Panoply](https://www.giss.nasa.gov/tools/panoply/) developed by NASA.\n",
    "You can either click on a group or dataset to show meta information about it.\n",
    "If you double click on a dataset, you can create a simple plot from the containing data and also view the raw data.\n"
   ]
  },
  {
   "cell_type": "markdown",
   "metadata": {},
   "source": [
    "**Example for viewing an hdf5 file using Panolpy:**\n",
    "\n",
    "![panolpy](media/panolpy.png)"
   ]
  },
  {
   "cell_type": "markdown",
   "metadata": {},
   "source": [
    "\n",
    "**Tip:** Meta data concerning the whole measurement, like the measurement date, subject information, or **sampling rate** can often be found at the root group. In the viewer, these group attributes are listed at the very bottom of the metadata list.\n",
    "\n",
    "If you do not want to a GUI, you can also use the `h5py` Python package to load and explore a dataset.\n",
    "Below, you can find a couple of helpful recipies to quickly scan through the whole file.\n",
    "\n",
    "**Note:** The examples are using the h5py file from the first exercise. If you want to run the examples on your own, modify the path to this file in the following cells."
   ]
  },
  {
   "cell_type": "code",
   "execution_count": 1,
   "metadata": {
    "execution": {
     "iopub.execute_input": "2021-10-07T11:04:47.569821Z",
     "iopub.status.busy": "2021-10-07T11:04:47.569144Z",
     "iopub.status.idle": "2021-10-07T11:04:47.673199Z",
     "shell.execute_reply": "2021-10-07T11:04:47.672613Z"
    },
    "jupyter": {
     "outputs_hidden": false
    }
   },
   "outputs": [],
   "source": [
    "import h5py\n"
   ]
  },
  {
   "cell_type": "code",
   "execution_count": 2,
   "metadata": {
    "execution": {
     "iopub.execute_input": "2021-10-07T11:04:47.677680Z",
     "iopub.status.busy": "2021-10-07T11:04:47.677095Z",
     "iopub.status.idle": "2021-10-07T11:04:47.678838Z",
     "shell.execute_reply": "2021-10-07T11:04:47.679233Z"
    }
   },
   "outputs": [],
   "source": [
    "example_hdf = h5py.File('data/signal3.h5', 'r')"
   ]
  },
  {
   "cell_type": "markdown",
   "metadata": {},
   "source": [
    "### Iterating all groups in a file\n",
    "\n",
    "`h5py` provides two functions that can be used to iterate through the full tree of groups and objects inside an hdf5 file: [`Group.visit`](http://docs.h5py.org/en/latest/high/group.html#Group.visit) and [`Group.visititems`](http://docs.h5py.org/en/latest/high/group.html#Group.visititems).\n",
    "Both functions can be passed an a callable (aka a function), which will be executed on every Group in the file.\n",
    "Below you can find a couple of usefull examples."
   ]
  },
  {
   "cell_type": "code",
   "execution_count": 3,
   "metadata": {
    "execution": {
     "iopub.execute_input": "2021-10-07T11:04:47.684382Z",
     "iopub.status.busy": "2021-10-07T11:04:47.683426Z",
     "iopub.status.idle": "2021-10-07T11:04:47.687268Z",
     "shell.execute_reply": "2021-10-07T11:04:47.687709Z"
    },
    "jupyter": {
     "outputs_hidden": false
    },
    "tags": []
   },
   "outputs": [
    {
     "name": "stdout",
     "output_type": "stream",
     "text": [
      "trial1\n",
      "trial1/date\n",
      "trial1/muscles\n",
      "trial1/muscles/gastrocnemius\n",
      "trial1/muscles/perenous\n",
      "trial1/muscles/soleus\n",
      "trial1/muscles/tibialis\n",
      "trial1/sampling rate\n",
      "trial1/subject\n",
      "trial1/subjectnr\n",
      "trial1/trialnr\n"
     ]
    }
   ],
   "source": [
    "# Printing all groups\n",
    "\n",
    "example_hdf.visit(print)"
   ]
  },
  {
   "cell_type": "code",
   "execution_count": 4,
   "metadata": {
    "execution": {
     "iopub.execute_input": "2021-10-07T11:04:47.692743Z",
     "iopub.status.busy": "2021-10-07T11:04:47.692149Z",
     "iopub.status.idle": "2021-10-07T11:04:47.694432Z",
     "shell.execute_reply": "2021-10-07T11:04:47.694038Z"
    },
    "jupyter": {
     "outputs_hidden": false
    }
   },
   "outputs": [],
   "source": [
    "# Finding a specfic object\n",
    "\n",
    "def find(name, search_key):\n",
    "    if search_key in name:\n",
    "        print(name)\n",
    "\n",
    "example_hdf.visit(lambda x: find(x, 'channel_1')) "
   ]
  },
  {
   "cell_type": "code",
   "execution_count": 5,
   "metadata": {
    "execution": {
     "iopub.execute_input": "2021-10-07T11:04:47.698434Z",
     "iopub.status.busy": "2021-10-07T11:04:47.697841Z",
     "iopub.status.idle": "2021-10-07T11:04:47.702869Z",
     "shell.execute_reply": "2021-10-07T11:04:47.702455Z"
    },
    "jupyter": {
     "outputs_hidden": false
    },
    "tags": []
   },
   "outputs": [
    {
     "name": "stdout",
     "output_type": "stream",
     "text": [
      "trial1/date data shape: ()\n",
      "trial1/muscles/gastrocnemius data shape: (1201,)\n",
      "trial1/muscles/perenous data shape: (1201,)\n",
      "trial1/muscles/soleus data shape: (1201,)\n",
      "trial1/muscles/tibialis data shape: (1201,)\n",
      "trial1/sampling rate data shape: ()\n",
      "trial1/subject data shape: ()\n",
      "trial1/subjectnr data shape: ()\n",
      "trial1/trialnr data shape: ()\n"
     ]
    }
   ],
   "source": [
    "# Find all dataset and check if they contain data\n",
    "\n",
    "def check_data(name, obj):\n",
    "    if isinstance(obj, h5py.Dataset):\n",
    "        print(name, 'data shape:', obj.shape)\n",
    "    \n",
    "example_hdf.visititems(check_data) "
   ]
  },
  {
   "cell_type": "markdown",
   "metadata": {},
   "source": [
    "### HDF5 Attributs\n",
    "\n",
    "Hdf5 files don't just store raw data values, but also additional meta data.\n",
    "This meta data is stored inside the attributes of each group.\n",
    "Even if a group or dataset does not contain any actual data, it might contain meta data.\n",
    "Meta data can be accesed using the `attr` parameter of a group."
   ]
  },
  {
   "cell_type": "code",
   "execution_count": 6,
   "metadata": {
    "execution": {
     "iopub.execute_input": "2021-10-07T11:04:47.707489Z",
     "iopub.status.busy": "2021-10-07T11:04:47.706871Z",
     "iopub.status.idle": "2021-10-07T11:04:47.712982Z",
     "shell.execute_reply": "2021-10-07T11:04:47.713383Z"
    },
    "jupyter": {
     "outputs_hidden": false
    },
    "tags": []
   },
   "outputs": [
    {
     "name": "stdout",
     "output_type": "stream",
     "text": [
      "trial1/muscles/gastrocnemius Attribute keys: [('sampling rate', 2000)]\n",
      "trial1/muscles/perenous Attribute keys: [('sampling rate', 2000)]\n",
      "trial1/muscles/soleus Attribute keys: [('sampling rate', 2000)]\n",
      "trial1/muscles/tibialis Attribute keys: [('sampling rate', 2000)]\n"
     ]
    }
   ],
   "source": [
    "# Get all attributes\n",
    "\n",
    "def print_attributes(name, obj):\n",
    "    attr_list = list(obj.attrs.items())\n",
    "    if attr_list:\n",
    "        print(name, 'Attribute keys:', attr_list)\n",
    "    \n",
    "example_hdf.visititems(print_attributes) "
   ]
  },
  {
   "cell_type": "code",
   "execution_count": 7,
   "metadata": {
    "execution": {
     "iopub.execute_input": "2021-10-07T11:04:47.717739Z",
     "iopub.status.busy": "2021-10-07T11:04:47.717160Z",
     "iopub.status.idle": "2021-10-07T11:04:47.722081Z",
     "shell.execute_reply": "2021-10-07T11:04:47.722682Z"
    },
    "jupyter": {
     "outputs_hidden": false
    },
    "tags": []
   },
   "outputs": [
    {
     "name": "stdout",
     "output_type": "stream",
     "text": [
      "trial1/muscles/gastrocnemius sampling rate 2000\n",
      "trial1/muscles/perenous sampling rate 2000\n",
      "trial1/muscles/soleus sampling rate 2000\n",
      "trial1/muscles/tibialis sampling rate 2000\n"
     ]
    }
   ],
   "source": [
    "# Find a specific attribute by name\n",
    "\n",
    "def find_attribute(name, obj, search_key):\n",
    "    if search_key in obj.attrs.keys():\n",
    "        print(name, search_key, obj.attrs[search_key])\n",
    "    \n",
    "example_hdf.visititems(lambda n, o: find_attribute(n, o, 'sampling rate')) "
   ]
  },
  {
   "cell_type": "code",
   "execution_count": 8,
   "metadata": {
    "execution": {
     "iopub.execute_input": "2021-10-07T11:04:47.727708Z",
     "iopub.status.busy": "2021-10-07T11:04:47.726616Z",
     "iopub.status.idle": "2021-10-07T11:04:47.729918Z",
     "shell.execute_reply": "2021-10-07T11:04:47.730378Z"
    },
    "jupyter": {
     "outputs_hidden": false
    },
    "tags": []
   },
   "outputs": [
    {
     "name": "stdout",
     "output_type": "stream",
     "text": [
      "Toplevel access - Sampling rate: 2000\n"
     ]
    }
   ],
   "source": [
    "# Manually access an attribute\n",
    "\n",
    "# Toplevel\n",
    "print('Toplevel access - Sampling rate:', example_hdf['trial1/muscles/gastrocnemius'].attrs['sampling rate'])"
   ]
  },
  {
   "cell_type": "markdown",
   "metadata": {},
   "source": [
    "## I know where my data is and I want to access it\n",
    "\n",
    "Once you located you data in the tree structure, you probably want to load it into you Python program for further processing or plotting.\n",
    "\n",
    "The important thing to understand about the `h5py` library is: **Groups work like dictionaries, and datasets work like NumPy arrays**.\n",
    "You can read more about this in the [official documentation](http://docs.h5py.org/en/latest/quick.html)\n",
    "\n",
    "In the following, these principals are used to access some data inside our `hdf5` file."
   ]
  },
  {
   "cell_type": "code",
   "execution_count": 9,
   "metadata": {
    "execution": {
     "iopub.execute_input": "2021-10-07T11:04:47.735807Z",
     "iopub.status.busy": "2021-10-07T11:04:47.734916Z",
     "iopub.status.idle": "2021-10-07T11:04:47.739718Z",
     "shell.execute_reply": "2021-10-07T11:04:47.739125Z"
    },
    "jupyter": {
     "outputs_hidden": false
    },
    "tags": []
   },
   "outputs": [
    {
     "name": "stdout",
     "output_type": "stream",
     "text": [
      "[('date', <HDF5 dataset \"date\": shape (), type \"|O\">), ('muscles', <HDF5 group \"/trial1/muscles\" (4 members)>), ('sampling rate', <HDF5 dataset \"sampling rate\": shape (), type \"<i4\">), ('subject', <HDF5 dataset \"subject\": shape (), type \"|O\">), ('subjectnr', <HDF5 dataset \"subjectnr\": shape (), type \"<i4\">), ('trialnr', <HDF5 dataset \"trialnr\": shape (), type \"<i4\">)]\n",
      "['date', 'muscles', 'sampling rate', 'subject', 'subjectnr', 'trialnr']\n"
     ]
    }
   ],
   "source": [
    "# Listing subgroups/datasets of a group\n",
    "\n",
    "print(list(example_hdf['trial1/'].items()))\n",
    "\n",
    "# Or just the keys\n",
    "print(list(example_hdf['trial1/'].keys()))"
   ]
  },
  {
   "cell_type": "code",
   "execution_count": 10,
   "metadata": {
    "execution": {
     "iopub.execute_input": "2021-10-07T11:04:47.745492Z",
     "iopub.status.busy": "2021-10-07T11:04:47.744747Z",
     "iopub.status.idle": "2021-10-07T11:04:47.747984Z",
     "shell.execute_reply": "2021-10-07T11:04:47.748382Z"
    },
    "jupyter": {
     "outputs_hidden": false
    },
    "tags": []
   },
   "outputs": [
    {
     "name": "stdout",
     "output_type": "stream",
     "text": [
      "<HDF5 group \"/trial1/muscles\" (4 members)>\n",
      "<HDF5 group \"/trial1/muscles\" (4 members)>\n"
     ]
    }
   ],
   "source": [
    "# Access a nested group\n",
    "\n",
    "subgroup = example_hdf['trial1/muscles']\n",
    "print(subgroup)\n",
    "\n",
    "# or\n",
    "nested_group = example_hdf['trial1']['muscles']\n",
    "print(nested_group)"
   ]
  },
  {
   "cell_type": "code",
   "execution_count": 11,
   "metadata": {
    "execution": {
     "iopub.execute_input": "2021-10-07T11:04:47.753964Z",
     "iopub.status.busy": "2021-10-07T11:04:47.753380Z",
     "iopub.status.idle": "2021-10-07T11:04:47.756127Z",
     "shell.execute_reply": "2021-10-07T11:04:47.756480Z"
    },
    "jupyter": {
     "outputs_hidden": false
    },
    "tags": []
   },
   "outputs": [
    {
     "name": "stdout",
     "output_type": "stream",
     "text": [
      "<HDF5 dataset \"gastrocnemius\": shape (1201,), type \"<f4\">\n",
      "<class 'numpy.ndarray'> (1201,) [ 0.04074097 -0.00228882 -0.05096436 ... -0.00648499  0.0213623\n",
      "  0.01426697]\n",
      "(1201,) [ 0.04074097 -0.00228882 -0.05096436 ... -0.00648499  0.0213623\n",
      "  0.01426697]\n"
     ]
    }
   ],
   "source": [
    "# Access a dataset (identical to a subgroup, but the return value is different)\n",
    "\n",
    "dataset = example_hdf['trial1/muscles/gastrocnemius']\n",
    "print(dataset)\n",
    "\n",
    "# Get the values as numpy array\n",
    "values = dataset[()]\n",
    "print(type(values), values.shape, values)\n",
    "\n",
    "# often you need to transpose the output to have it in a usable shape\n",
    "values = values.T\n",
    "print(values.shape, values)"
   ]
  },
  {
   "cell_type": "code",
   "execution_count": null,
   "metadata": {},
   "outputs": [],
   "source": []
  }
 ],
 "metadata": {
  "kernelspec": {
   "display_name": "Python 3",
   "language": "python",
   "name": "python3"
  },
  "language_info": {
   "codemirror_mode": {
    "name": "ipython",
    "version": 3
   },
   "file_extension": ".py",
   "mimetype": "text/x-python",
   "name": "python",
   "nbconvert_exporter": "python",
   "pygments_lexer": "ipython3",
   "version": "3.9.2"
  }
 },
 "nbformat": 4,
 "nbformat_minor": 4
}
