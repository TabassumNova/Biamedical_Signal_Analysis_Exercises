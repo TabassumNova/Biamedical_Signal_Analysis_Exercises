{
 "cells": [
  {
   "cell_type": "code",
   "execution_count": 1,
   "metadata": {
    "execution": {
     "iopub.execute_input": "2022-01-13T15:12:35.864906Z",
     "iopub.status.busy": "2022-01-13T15:12:35.864201Z",
     "iopub.status.idle": "2022-01-13T15:12:36.569904Z",
     "shell.execute_reply": "2022-01-13T15:12:36.570362Z"
    }
   },
   "outputs": [],
   "source": [
    "# Imports and basic setup\n",
    "### UNCOMMENT THE CORRECT ONE\n",
    "# If you are using Jupyter Lab\n",
    "%matplotlib inline\n",
    "\n",
    "# If you are using Jupyter Notebook\n",
    "# %matplotlib notebook\n",
    "\n",
    "import matplotlib.pyplot as plt\n",
    "plt.rcParams.update({'figure.max_open_warning': 40})\n",
    "import pandas as pd\n",
    "import numpy as np\n",
    "import scipy\n",
    "import scipy.signal"
   ]
  },
  {
   "cell_type": "markdown",
   "metadata": {},
   "source": [
    "# Comparing PVC and healthy peaks\n",
    "\n",
    "Last exercise we calculated a wide set of features on a sample ECG recording.\n",
    "In this exercise, we want to use these features to build a classifier that can separate healthy from PVC (premature ventricular contraction) heart beats."
   ]
  },
  {
   "cell_type": "markdown",
   "metadata": {},
   "source": [
    "## Ex 12.1: Data Cleaning\n",
    "We are going to use the [MIT ECG database](https://physionet.org/content/mitdb/1.0.0/), which was mentioned multiple times in the lecture, for this analysis.\n",
    "You can find a formatted and structured version of the DB in the `data` folder.\n",
    "The files have the following structure:\n",
    "\n",
    "- {patient_id}.csv -> The ECG recording\n",
    "- {patient_id}_all.csv -> The position of the R-peaks of all heart beats (PVC or normal). All heart beats that show a different condition than PVC are already excluded\n",
    "- {patient_id}_pvc.csv -> The position of all PVC heart beats in the recording.\n",
    "\n",
    "Not all patients in the database have PVC heart beats in the recordings.\n",
    "\n",
    "a) Find all patients that have PVC heart beats **and** normal beats\n",
    "\n",
    "b) Create a label vector for each patient. This should consist of a 2 column dataframe. The first column should be the position of the R-peak and the second should either be `\"PVC\"` or `\"N\"`, indicating a healthy or pathological beat.\n",
    "\n",
    "c) Count how many PVC vs. normal heart beats exist for these filtered patients\n",
    "\n",
    "d) Based on your findings, describe potential issues a classification using this data could have."
   ]
  },
  {
   "cell_type": "markdown",
   "metadata": {},
   "source": [
    "### Solution:\n",
    "\n",
    "c) The two classes (PVC vs. normal) are unbalanced by almost 10x.\n",
    "If we do not account for this, classifiers often tend to be biased towards the majority class.\n",
    "However, we will see later that our classifier appears not to be impacted by this."
   ]
  },
  {
   "cell_type": "code",
   "execution_count": 2,
   "metadata": {
    "execution": {
     "iopub.execute_input": "2022-01-13T15:12:36.577572Z",
     "iopub.status.busy": "2022-01-13T15:12:36.575175Z",
     "iopub.status.idle": "2022-01-13T15:12:36.646475Z",
     "shell.execute_reply": "2022-01-13T15:12:36.646794Z"
    }
   },
   "outputs": [
    {
     "name": "stdout",
     "output_type": "stream",
     "text": [
      "['100', '102', '104', '105', '106', '108', '114', '116', '119', '121', '123', '200', '201', '202', '203', '205', '208', '209', '210', '213', '215', '217', '219', '221', '223', '228', '230', '231', '233', '234']\n"
     ]
    }
   ],
   "source": [
    "from pathlib import Path\n",
    "\n",
    "data = Path('./data')\n",
    "patients_with_pvc = []\n",
    "\n",
    "### BEGIN SOLUTION\n",
    "for patient in data.glob('*_pvc.csv'):\n",
    "    pvcs = pd.read_csv(patient)\n",
    "    all_beats = pd.read_csv(str(patient).rsplit('_', 1)[0] + '_all.csv')\n",
    "    if len(pvcs) > 0 and len(all_beats) > len(pvcs):\n",
    "        patients_with_pvc.append(patient.stem.split('_')[0])\n",
    "### END SOLUTION\n",
    "patients_with_pvc = sorted(patients_with_pvc)\n",
    "print(patients_with_pvc)"
   ]
  },
  {
   "cell_type": "code",
   "execution_count": 3,
   "metadata": {
    "execution": {
     "iopub.execute_input": "2022-01-13T15:12:36.651584Z",
     "iopub.status.busy": "2022-01-13T15:12:36.651066Z",
     "iopub.status.idle": "2022-01-13T15:12:36.778058Z",
     "shell.execute_reply": "2022-01-13T15:12:36.778459Z"
    }
   },
   "outputs": [
    {
     "data": {
      "text/html": [
       "<div>\n",
       "<style scoped>\n",
       "    .dataframe tbody tr th:only-of-type {\n",
       "        vertical-align: middle;\n",
       "    }\n",
       "\n",
       "    .dataframe tbody tr th {\n",
       "        vertical-align: top;\n",
       "    }\n",
       "\n",
       "    .dataframe thead th {\n",
       "        text-align: right;\n",
       "    }\n",
       "</style>\n",
       "<table border=\"1\" class=\"dataframe\">\n",
       "  <thead>\n",
       "    <tr style=\"text-align: right;\">\n",
       "      <th></th>\n",
       "      <th>patient_id</th>\n",
       "      <th>R</th>\n",
       "      <th>label</th>\n",
       "    </tr>\n",
       "  </thead>\n",
       "  <tbody>\n",
       "    <tr>\n",
       "      <th>0</th>\n",
       "      <td>100</td>\n",
       "      <td>77</td>\n",
       "      <td>N</td>\n",
       "    </tr>\n",
       "    <tr>\n",
       "      <th>1</th>\n",
       "      <td>100</td>\n",
       "      <td>370</td>\n",
       "      <td>N</td>\n",
       "    </tr>\n",
       "    <tr>\n",
       "      <th>2</th>\n",
       "      <td>100</td>\n",
       "      <td>662</td>\n",
       "      <td>N</td>\n",
       "    </tr>\n",
       "    <tr>\n",
       "      <th>3</th>\n",
       "      <td>100</td>\n",
       "      <td>946</td>\n",
       "      <td>N</td>\n",
       "    </tr>\n",
       "    <tr>\n",
       "      <th>4</th>\n",
       "      <td>100</td>\n",
       "      <td>1231</td>\n",
       "      <td>N</td>\n",
       "    </tr>\n",
       "  </tbody>\n",
       "</table>\n",
       "</div>"
      ],
      "text/plain": [
       "  patient_id     R label\n",
       "0        100    77     N\n",
       "1        100   370     N\n",
       "2        100   662     N\n",
       "3        100   946     N\n",
       "4        100  1231     N"
      ]
     },
     "execution_count": 3,
     "metadata": {},
     "output_type": "execute_result"
    }
   ],
   "source": [
    "# Create label vectors\n",
    "### BEGIN SOLUTION\n",
    "all_beat_labels = dict()\n",
    "\n",
    "for patient in patients_with_pvc:\n",
    "    pvc_beats = pd.read_csv('./data/{}_pvc.csv'.format(patient), header=0, index_col=0)\n",
    "    all_beats = pd.read_csv('./data/{}_all.csv'.format(patient), header=0, index_col=0)\n",
    "    # Set all labels to N for now\n",
    "    all_beats['label'] = 'N'\n",
    "    # Overwrite the correct cols for the PVC label\n",
    "    all_beats.loc[all_beats['R'].isin(pvc_beats['PVC']), 'label'] = 'PVC'\n",
    "    \n",
    "    all_beat_labels[patient] = all_beats.set_index('R')\n",
    "    \n",
    "all_beat_labels = pd.concat(all_beat_labels, names=['patient_id']).reset_index()\n",
    "all_beat_labels.head(5)\n",
    "### END SOLUTION"
   ]
  },
  {
   "cell_type": "code",
   "execution_count": 4,
   "metadata": {
    "execution": {
     "iopub.execute_input": "2022-01-13T15:12:36.783144Z",
     "iopub.status.busy": "2022-01-13T15:12:36.781873Z",
     "iopub.status.idle": "2022-01-13T15:12:36.787740Z",
     "shell.execute_reply": "2022-01-13T15:12:36.788072Z"
    }
   },
   "outputs": [
    {
     "data": {
      "text/plain": [
       "label\n",
       "N      55882\n",
       "PVC     6608\n",
       "dtype: int64"
      ]
     },
     "execution_count": 4,
     "metadata": {},
     "output_type": "execute_result"
    }
   ],
   "source": [
    "# Count PVC vs non PVC\n",
    "### BEGIN SOLUTION\n",
    "all_beat_labels.groupby('label').size()\n",
    "### END SOLUTION"
   ]
  },
  {
   "cell_type": "markdown",
   "metadata": {},
   "source": [
    "## Ex. 12.2: Calculating features\n",
    "\n",
    "As we learned in the lecture, we need to reduce the dimensionality of our data by calculating features for each heartbeat.\n",
    "\n",
    "a) Using the code from last exercise, extract all heartbeats from the selected patients. Apply the same band-pass filter to each recording we used last exercise.\n",
    "\n",
    "b) Calculate all features from last exercise for all heart beats. Use the first **healthy** heart beat of each patient for the template feature.\n",
    "\n",
    "c) Calculate a set of “generic” features for each heart beat: *mean*, *std*, *minimum*, *maximum*\n",
    "\n",
    "c) Compose all features into one matrix, where each row belongs to one heartbeat. Create a single matrix/`pd.DataFrame` combining all patients. Add a column indicating the label (`N` or `PVC`)."
   ]
  },
  {
   "cell_type": "code",
   "execution_count": 5,
   "metadata": {
    "execution": {
     "iopub.execute_input": "2022-01-13T15:12:36.795549Z",
     "iopub.status.busy": "2022-01-13T15:12:36.794568Z",
     "iopub.status.idle": "2022-01-13T15:12:36.796418Z",
     "shell.execute_reply": "2022-01-13T15:12:36.796784Z"
    }
   },
   "outputs": [],
   "source": [
    "# Helper funcs from last exercise\n",
    "def extract_qrst_complexes(signal, r_peaks, sampling_rate=360):\n",
    "    \"\"\"Extract all qrst complexes from a continous signal.\n",
    "    \n",
    "    Cuts out a region of -50ms to 300ms around each provided R-peak\n",
    "    \n",
    "    Args:\n",
    "        signal: np.array of ecg signal\n",
    "        r_peaks: list of indices indicating the postion of R-peaks in the signal\n",
    "        sampling_rate: Ssampling rate of the recording\n",
    "        \n",
    "    Returns:\n",
    "        qrst: np.array with fixed number of culumns and one qrst complex per row\n",
    "    \"\"\"\n",
    "    signal = np.array(signal)\n",
    "    start = r_peaks - int(50 / 1000 * sampling_rate)\n",
    "    end = r_peaks + int(300 / 1000 * sampling_rate)\n",
    "\n",
    "    qrst = []\n",
    "    for s, e in zip(start, end):\n",
    "        qrst.append(signal[s:e])\n",
    "    qrst = np.array(qrst)\n",
    "    return qrst\n",
    "\n",
    "def find_q_peak(qrst, sampling_rate=360):\n",
    "    \"\"\"Find the Q peak in an array of qrst complexes extracted before.\n",
    "    \n",
    "    The Q peak is the first valley to the left of the R-Peak\n",
    "    \n",
    "    Returns:\n",
    "        The relative distance from the R-Peak in samples\n",
    "    \"\"\"\n",
    "    r_peak_pos = int(50/1000 * sampling_rate)\n",
    "    index_q = np.argmin(qrst[:, :r_peak_pos], axis=-1)\n",
    "    index_q = r_peak_pos - index_q\n",
    "    return index_q\n",
    "\n",
    "def find_s_peak(qrst, sampling_rate=360):\n",
    "    \"\"\"Find the S peak in an array of qrst complexes extracted before.\n",
    "    \n",
    "    The S peak is the first valley to the right of the R-Peak\n",
    "    \n",
    "    Returns:\n",
    "        The relative distance from the R-Peak in samples\n",
    "    \"\"\"\n",
    "    r_peak_pos = int(50/1000 * sampling_rate)\n",
    "    # Search 80ms to the right of the r_peak\n",
    "    search_index = int(80/1000 * sampling_rate)\n",
    "    \n",
    "    index_s = np.argmin(qrst[:, r_peak_pos: r_peak_pos + search_index], axis=-1)\n",
    "    index_s = index_s\n",
    "    return index_s"
   ]
  },
  {
   "cell_type": "code",
   "execution_count": 6,
   "metadata": {
    "execution": {
     "iopub.execute_input": "2022-01-13T15:12:36.805693Z",
     "iopub.status.busy": "2022-01-13T15:12:36.805075Z",
     "iopub.status.idle": "2022-01-13T15:12:36.806723Z",
     "shell.execute_reply": "2022-01-13T15:12:36.807126Z"
    }
   },
   "outputs": [],
   "source": [
    "def calc_all_features_for_patient(signal, peaks, labels):\n",
    "    \"\"\"Extract all heartbeats and calc all features for a patient.\n",
    "    \n",
    "    Args:\n",
    "        signal: np.array of ecg signal\n",
    "        peaks: pd.DataFrame with a column called \"R\" containing the position of all R-peaks\n",
    "        labels: array with either \"N\" or \"PVC\" for each r-peak\n",
    "        \n",
    "    Returns:\n",
    "        DataFrame with 1 column per feature and 1 column for the label\n",
    "    \"\"\"\n",
    "    peaks = peaks.copy()\n",
    "    # Remove peaks that are too close to the beginning or end of the dataset\n",
    "    peaks = peaks[peaks['R'].between(20, len(signal) - 110)]\n",
    "    \n",
    "    # Extract the individual complexeses and important events withing the complex\n",
    "    ### BEGIN SOLUTION\n",
    "    qrst_complexes = extract_qrst_complexes(signal, peaks['R'], sampling_rate=360)\n",
    "    peaks['Q'] = peaks['R'] - find_q_peak(qrst_complexes)\n",
    "    peaks['S'] = peaks['R'] + find_s_peak(qrst_complexes)\n",
    "    ### END SOLUTION\n",
    "    \n",
    "    features = pd.DataFrame()\n",
    "\n",
    "    # Calculate all features from last week\n",
    "    ### BEGIN SOLUTION\n",
    "    # QRS Width\n",
    "    features['QRS_Width'] = (peaks['S'] - peaks['Q']) / sampling_rate\n",
    "\n",
    "    # QR Amplitude difference\n",
    "    # Calculate the amplitude difference between the R-peak and the Q-valey\n",
    "    features['QR_amplitude'] = signal.values[peaks['R'].values] - signal.values[peaks['Q'].values]\n",
    "\n",
    "    # RS Amplitude difference\n",
    "    # Calculate the amplitude difference between the R-peak and the S-valey\n",
    "    features['RS_amplitude'] = signal.values[peaks['R'].values] - signal.values[peaks['S'].values]\n",
    "\n",
    "    # QRST Area\n",
    "    # Calculate the area under each QRST complex after substracting the mean value of each complex to\n",
    "    # normalize the baseline\n",
    "    features['QRST_area'] = np.sum(np.abs((qrst_complexes.T - np.mean(qrst_complexes, axis=-1)).T), axis=-1)\n",
    "\n",
    "    # Template Match\n",
    "    # Find the first \"normal QRS\" complex\n",
    "    first_normal = list(labels).index('N')  # index return the first occurence\n",
    "    \n",
    "    # We assume the first peak in the series is a normal QRST complex\n",
    "    # Substract the baseline (minimum) from every qrst complex and then calculate the normalised dot-product (a*b/(|a||b|))\n",
    "    baseline_correctes_qrst = (qrst_complexes.T - np.min(qrst_complexes, axis=-1)).T\n",
    "    baseline_correctes_norm = np.linalg.norm(baseline_correctes_qrst, axis=-1)\n",
    "    distance = np.dot(baseline_correctes_qrst, baseline_correctes_qrst[first_normal])\n",
    "    distance /= baseline_correctes_norm * baseline_correctes_norm[first_normal]\n",
    "    features['Template'] = distance\n",
    "    ### END SOLUTION\n",
    "    \n",
    "    # Calculate a set of generic features\n",
    "    ### BEGIN SOLUTION\n",
    "    features['Mean'] = np.mean(qrst_complexes, axis=1)\n",
    "    features['Std'] = np.std(qrst_complexes, axis=1)\n",
    "    features['Min'] = np.min(qrst_complexes, axis=1)\n",
    "    features['Max'] = np.max(qrst_complexes, axis=1)\n",
    "    ### END SOLUTION\n",
    "    \n",
    "    # Add the label column\n",
    "    ### BEGIN SOLUTION\n",
    "    features['label'] = labels\n",
    "    ### END SOLUTION\n",
    "    return features\n"
   ]
  },
  {
   "cell_type": "code",
   "execution_count": 7,
   "metadata": {
    "execution": {
     "iopub.execute_input": "2022-01-13T15:12:36.812917Z",
     "iopub.status.busy": "2022-01-13T15:12:36.812293Z",
     "iopub.status.idle": "2022-01-13T15:12:42.473050Z",
     "shell.execute_reply": "2022-01-13T15:12:42.472376Z"
    }
   },
   "outputs": [
    {
     "data": {
      "text/html": [
       "<div>\n",
       "<style scoped>\n",
       "    .dataframe tbody tr th:only-of-type {\n",
       "        vertical-align: middle;\n",
       "    }\n",
       "\n",
       "    .dataframe tbody tr th {\n",
       "        vertical-align: top;\n",
       "    }\n",
       "\n",
       "    .dataframe thead th {\n",
       "        text-align: right;\n",
       "    }\n",
       "</style>\n",
       "<table border=\"1\" class=\"dataframe\">\n",
       "  <thead>\n",
       "    <tr style=\"text-align: right;\">\n",
       "      <th></th>\n",
       "      <th>QRS_Width</th>\n",
       "      <th>QR_amplitude</th>\n",
       "      <th>RS_amplitude</th>\n",
       "      <th>QRST_area</th>\n",
       "      <th>Template</th>\n",
       "      <th>Mean</th>\n",
       "      <th>Std</th>\n",
       "      <th>Min</th>\n",
       "      <th>Max</th>\n",
       "      <th>label</th>\n",
       "    </tr>\n",
       "  </thead>\n",
       "  <tbody>\n",
       "    <tr>\n",
       "      <th>0</th>\n",
       "      <td>0.047222</td>\n",
       "      <td>1.304419</td>\n",
       "      <td>1.272772</td>\n",
       "      <td>12.740724</td>\n",
       "      <td>1.000000</td>\n",
       "      <td>0.007252</td>\n",
       "      <td>0.211623</td>\n",
       "      <td>-0.254819</td>\n",
       "      <td>1.049600</td>\n",
       "      <td>N</td>\n",
       "    </tr>\n",
       "    <tr>\n",
       "      <th>1</th>\n",
       "      <td>0.052778</td>\n",
       "      <td>1.473421</td>\n",
       "      <td>1.399725</td>\n",
       "      <td>16.753887</td>\n",
       "      <td>0.991165</td>\n",
       "      <td>0.009106</td>\n",
       "      <td>0.254250</td>\n",
       "      <td>-0.311316</td>\n",
       "      <td>1.162106</td>\n",
       "      <td>N</td>\n",
       "    </tr>\n",
       "    <tr>\n",
       "      <th>2</th>\n",
       "      <td>0.044444</td>\n",
       "      <td>1.461040</td>\n",
       "      <td>1.428218</td>\n",
       "      <td>13.951622</td>\n",
       "      <td>0.984203</td>\n",
       "      <td>0.005351</td>\n",
       "      <td>0.238643</td>\n",
       "      <td>-0.292782</td>\n",
       "      <td>1.195919</td>\n",
       "      <td>N</td>\n",
       "    </tr>\n",
       "    <tr>\n",
       "      <th>3</th>\n",
       "      <td>0.047222</td>\n",
       "      <td>1.442177</td>\n",
       "      <td>1.351256</td>\n",
       "      <td>13.375388</td>\n",
       "      <td>0.983333</td>\n",
       "      <td>0.004366</td>\n",
       "      <td>0.233247</td>\n",
       "      <td>-0.326319</td>\n",
       "      <td>1.147351</td>\n",
       "      <td>N</td>\n",
       "    </tr>\n",
       "    <tr>\n",
       "      <th>4</th>\n",
       "      <td>0.044444</td>\n",
       "      <td>1.344296</td>\n",
       "      <td>1.313935</td>\n",
       "      <td>12.736080</td>\n",
       "      <td>0.996275</td>\n",
       "      <td>0.004360</td>\n",
       "      <td>0.212286</td>\n",
       "      <td>-0.265043</td>\n",
       "      <td>1.079253</td>\n",
       "      <td>N</td>\n",
       "    </tr>\n",
       "  </tbody>\n",
       "</table>\n",
       "</div>"
      ],
      "text/plain": [
       "   QRS_Width  QR_amplitude  RS_amplitude  QRST_area  Template      Mean  \\\n",
       "0   0.047222      1.304419      1.272772  12.740724  1.000000  0.007252   \n",
       "1   0.052778      1.473421      1.399725  16.753887  0.991165  0.009106   \n",
       "2   0.044444      1.461040      1.428218  13.951622  0.984203  0.005351   \n",
       "3   0.047222      1.442177      1.351256  13.375388  0.983333  0.004366   \n",
       "4   0.044444      1.344296      1.313935  12.736080  0.996275  0.004360   \n",
       "\n",
       "        Std       Min       Max label  \n",
       "0  0.211623 -0.254819  1.049600     N  \n",
       "1  0.254250 -0.311316  1.162106     N  \n",
       "2  0.238643 -0.292782  1.195919     N  \n",
       "3  0.233247 -0.326319  1.147351     N  \n",
       "4  0.212286 -0.265043  1.079253     N  "
      ]
     },
     "execution_count": 7,
     "metadata": {},
     "output_type": "execute_result"
    }
   ],
   "source": [
    "sampling_rate = 360  # hz\n",
    "\n",
    "feature_all_patients = []\n",
    "### BEGIN SOLUTION\n",
    "for patient in patients_with_pvc:\n",
    "    signal = pd.read_csv('./data/{}.csv'.format(patient), index_col=0)['ecg']\n",
    "\n",
    "    # Optionally apply a bandpass filter to the signal (3-50 Hz passband)\n",
    "    # Test all computations in this exercise  with and without the filter\n",
    "    bandpass_filter = scipy.signal.butter(5, (3, 50), btype='bandpass', fs=sampling_rate)\n",
    "    signal = pd.Series(scipy.signal.filtfilt(*bandpass_filter, signal))\n",
    "    # Calculate all features\n",
    "    beats = all_beat_labels[all_beat_labels['patient_id'] == str(patient)]\n",
    "    feature_all_patients.append(calc_all_features_for_patient(signal, beats[['R']], beats['label']))\n",
    "### END SOLUTION\n",
    "feature_all_patients = pd.concat(feature_all_patients)\n",
    "feature_all_patients.head(5)"
   ]
  },
  {
   "cell_type": "markdown",
   "metadata": {},
   "source": [
    "## Ex. 12.3: Feature Selection\n",
    "\n",
    "Now that we calculated a set of features it is important to check if they provide the separation we hoped.\n",
    "This is an important step, as our classifier can never be better than its data/features.\n",
    "If the features cannot separate our classes of interest, our classifier cannot magically achieve this.\n",
    "\n",
    "A typical way to do this, is to plot the histogram for each feature.\n",
    "\n",
    "a) Look at the visualisation below. Describe what you would expect from a “good” feature.\n",
    "\n",
    "b) Pick 4 features, you would consider good and store their names in an array for later use\n",
    "\n",
    "c) Explain the limitations of selecting features just based on a 1D histogram"
   ]
  },
  {
   "cell_type": "markdown",
   "metadata": {},
   "source": [
    "### Solution:\n",
    "\n",
    "a) A good feature should have a minimal overlap between the histograms of the two classes\n",
    "\n",
    "b) No feature is perfect, but we can see differences in the histograms in all features. A potential set of “good” features would be `[‘QRS_Width’, ‘Template’, ‘Mean’, ‘RS_amplitude’]`\n",
    "\n",
    "c) Combining multiple features can often reveal decision boundaries that are not visible in lower dimensions. Think about datasets that can be separated only by a diagonal in the 2D space."
   ]
  },
  {
   "cell_type": "code",
   "execution_count": 8,
   "metadata": {
    "execution": {
     "iopub.execute_input": "2022-01-13T15:12:42.477579Z",
     "iopub.status.busy": "2022-01-13T15:12:42.476918Z",
     "iopub.status.idle": "2022-01-13T15:12:45.839192Z",
     "shell.execute_reply": "2022-01-13T15:12:45.839600Z"
    }
   },
   "outputs": [
    {
     "data": {
      "image/png": "[encoded data removed]",
      "text/plain": [
       "<Figure size 648x648 with 9 Axes>"
      ]
     },
     "metadata": {
      "needs_background": "light"
     },
     "output_type": "display_data"
    }
   ],
   "source": [
    "import seaborn as sns\n",
    "plot_longform_df = feature_all_patients.melt(['label'], value_name='value', var_name='features')\n",
    "g = sns.FacetGrid(plot_longform_df, col='features', hue=\"label\", sharex=False, sharey=False, col_wrap=3)\n",
    "g = (g.map(sns.kdeplot, 'value', fill=True))"
   ]
  },
  {
   "cell_type": "code",
   "execution_count": 9,
   "metadata": {
    "execution": {
     "iopub.execute_input": "2022-01-13T15:12:45.842737Z",
     "iopub.status.busy": "2022-01-13T15:12:45.842230Z",
     "iopub.status.idle": "2022-01-13T15:12:45.843726Z",
     "shell.execute_reply": "2022-01-13T15:12:45.844244Z"
    }
   },
   "outputs": [],
   "source": [
    "### BEGIN SOLUTION\n",
    "selected_features = ['QRS_Width', 'Template', 'Mean', 'RS_amplitude']\n",
    "### END SOLUTION"
   ]
  },
  {
   "cell_type": "markdown",
   "metadata": {},
   "source": [
    "## Ex. 12.4: Training a classifier\n",
    "\n",
    "With our set of features, we will now train a classifier.\n",
    "This is usually a crucial step, as the choice of classifier and and its parameters will heavily influence the final performance.\n",
    "While there are some rules of thumb, most of time this requires some trial and error or a proper grid search.\n",
    "\n",
    "For this exercise we are going to use a *RandomForestClassifier* (and leave all parameters at default), because it is simple to use and requires no further pre-processing of our features.\n",
    "Have a look at the [sklearn documentation](https://scikit-learn.org/stable/modules/generated/sklearn.ensemble.RandomForestClassifier.html) for further information.\n",
    "\n",
    "To test the performance of a classifier, we need to decide on a “Test Set”.\n",
    "A part of our data, we will not use to train the classifier, but only to evaluate its final performance.\n",
    "This is called a train-test-split and sklearn has some [helper functions](https://scikit-learn.org/stable/modules/generated/sklearn.model_selection.train_test_split.html) for this.\n",
    "\n",
    "a) Use the documentation provided above to assemble a simple pipeline consisting of a train-test-split with 30% test data and stratification. Then train a Random Forest using this train data.\n",
    "\n",
    "b) Explain why “stratification” could be important for the given problem.\n",
    "\n",
    "c) Name potential other issues of using a single train-test split like shown here.\n",
    "\n",
    "d) Calculate the confusion matrix and the accuracy for this classification. Explain the meaning of each entry in the confusion matrix.\n",
    "\n",
    "e) Repeat the classification with all features (instead of just your selected features). Use the same train-test-split. Compare the results."
   ]
  },
  {
   "cell_type": "markdown",
   "metadata": {},
   "source": [
    "### Solution:\n",
    "\n",
    "b) Stratification ensures that the percentage of normal vs. PVC heart-beat is identical in the train and the test data. If we just pick random samples it might happen, that only a few abnormal heart beats and up in one of the two groups. The higher the class imbalance the larger the chance for this happening. Note that stratification is not equivalent to “class balancing”, which should be considered in case of large class imbalances. A great paper on this topic is called “Learning from unbalanced data”.\n",
    "\n",
    "c) A single train-test split can cause an “unfavorable” split. A better solution is to use multiple train-test splits, for example by using cross-validation. Further, we performed the train-test split on the level of heart beats. However, individual heart-beats from the same patient are expected to be very similar. This means that if some heart-beats of the same patients end up in the test set and some end up in the train test, we basically have the “same” data point in both sets. This could be considered a “train-test-leak”. A solution would be to perform the train-test-split on the level of subjects.\n",
    "\n",
    "d) Accuracy tells you how many samples are correctly classified. However, in case of unbalanced classes that might not tell you the full picture. The confusion matrix provides you with further information:\n",
    "The *True Positive* (TP) rate, the *False Negative* (FN), the *True Negative* (TN), and the *False Positive* (FP). Because we want to detect abnormal beats, PVC is our *positive* (i.e. TP is the rate of PVCs we detected correctly)"
   ]
  },
  {
   "cell_type": "code",
   "execution_count": 10,
   "metadata": {
    "execution": {
     "iopub.execute_input": "2022-01-13T15:12:45.847843Z",
     "iopub.status.busy": "2022-01-13T15:12:45.847353Z",
     "iopub.status.idle": "2022-01-13T15:12:45.851121Z",
     "shell.execute_reply": "2022-01-13T15:12:45.851572Z"
    }
   },
   "outputs": [],
   "source": [
    "# Select your features from the datadrame and create a feature and a label vector\n",
    "### BEGIN SOLUTION\n",
    "data = feature_all_patients[selected_features]\n",
    "labels = feature_all_patients['label']\n",
    "### END SOLUTION"
   ]
  },
  {
   "cell_type": "code",
   "execution_count": 11,
   "metadata": {
    "execution": {
     "iopub.execute_input": "2022-01-13T15:12:45.855000Z",
     "iopub.status.busy": "2022-01-13T15:12:45.854510Z",
     "iopub.status.idle": "2022-01-13T15:12:45.925370Z",
     "shell.execute_reply": "2022-01-13T15:12:45.925712Z"
    }
   },
   "outputs": [],
   "source": [
    "# Split data into training and test data\n",
    "### BEGIN SOLUTION\n",
    "from sklearn.model_selection import train_test_split\n",
    "\n",
    "X_train, X_test, y_train, y_test = train_test_split(data.values, labels.values, test_size=0.3, stratify=labels.values, random_state=12)\n",
    "### END SOLUTION"
   ]
  },
  {
   "cell_type": "code",
   "execution_count": 12,
   "metadata": {
    "execution": {
     "iopub.execute_input": "2022-01-13T15:12:45.929232Z",
     "iopub.status.busy": "2022-01-13T15:12:45.928743Z",
     "iopub.status.idle": "2022-01-13T15:12:50.491717Z",
     "shell.execute_reply": "2022-01-13T15:12:50.492091Z"
    }
   },
   "outputs": [],
   "source": [
    "# Create a Random Forrest classifier. You can leave all parameters as default.\n",
    "### BEGIN SOLUTION\n",
    "from sklearn.ensemble import RandomForestClassifier\n",
    "\n",
    "classifier = RandomForestClassifier(n_estimators=100)\n",
    "### END SOLUTION\n",
    "\n",
    "# Train the classifier using the training data\n",
    "### BEGIN SOLUTION\n",
    "classifier = classifier.fit(X_train, y_train)\n",
    "### END SOLUTION"
   ]
  },
  {
   "cell_type": "code",
   "execution_count": 13,
   "metadata": {
    "execution": {
     "iopub.execute_input": "2022-01-13T15:12:50.496478Z",
     "iopub.status.busy": "2022-01-13T15:12:50.495901Z",
     "iopub.status.idle": "2022-01-13T15:12:50.975456Z",
     "shell.execute_reply": "2022-01-13T15:12:50.975073Z"
    }
   },
   "outputs": [
    {
     "name": "stdout",
     "output_type": "stream",
     "text": [
      "[[16694    69]\n",
      " [  129  1853]]\n",
      "0.9894371832488663\n"
     ]
    },
    {
     "name": "stderr",
     "output_type": "stream",
     "text": [
      "/Users/falk/Documents/FAU/programming/environments/biosig_exercise/lib/python3.9/site-packages/sklearn/utils/deprecation.py:87: FutureWarning: Function plot_confusion_matrix is deprecated; Function `plot_confusion_matrix` is deprecated in 1.0 and will be removed in 1.2. Use one of the class methods: ConfusionMatrixDisplay.from_predictions or ConfusionMatrixDisplay.from_estimator.\n",
      "  warnings.warn(msg, category=FutureWarning)\n"
     ]
    },
    {
     "data": {
      "image/png": "[encoded data removed]",
      "text/plain": [
       "<Figure size 432x288 with 2 Axes>"
      ]
     },
     "metadata": {
      "needs_background": "light"
     },
     "output_type": "display_data"
    }
   ],
   "source": [
    "from sklearn.metrics import confusion_matrix, accuracy_score, plot_confusion_matrix\n",
    "\n",
    "# Calculate the confusion matrix and the accuracy\n",
    "### BEGIN SOLUTION\n",
    "predicted = classifier.predict(X_test)\n",
    "print(confusion_matrix(y_test, predicted, labels=['N', 'PVC'], normalize=None))\n",
    "print(accuracy_score(y_test, predicted))\n",
    "\n",
    "plot_confusion_matrix(classifier, X_test, y_test, normalize='true');\n",
    "### END SOLUTION"
   ]
  },
  {
   "cell_type": "code",
   "execution_count": 14,
   "metadata": {
    "execution": {
     "iopub.execute_input": "2022-01-13T15:12:51.007166Z",
     "iopub.status.busy": "2022-01-13T15:12:50.982310Z",
     "iopub.status.idle": "2022-01-13T15:12:59.020441Z",
     "shell.execute_reply": "2022-01-13T15:12:59.019840Z"
    }
   },
   "outputs": [
    {
     "name": "stdout",
     "output_type": "stream",
     "text": [
      "[[16728    35]\n",
      " [   84  1898]]\n",
      "0.99365164043745\n"
     ]
    },
    {
     "name": "stderr",
     "output_type": "stream",
     "text": [
      "/Users/falk/Documents/FAU/programming/environments/biosig_exercise/lib/python3.9/site-packages/sklearn/utils/deprecation.py:87: FutureWarning: Function plot_confusion_matrix is deprecated; Function `plot_confusion_matrix` is deprecated in 1.0 and will be removed in 1.2. Use one of the class methods: ConfusionMatrixDisplay.from_predictions or ConfusionMatrixDisplay.from_estimator.\n",
      "  warnings.warn(msg, category=FutureWarning)\n"
     ]
    },
    {
     "data": {
      "image/png": "[encoded data removed]",
      "text/plain": [
       "<Figure size 432x288 with 2 Axes>"
      ]
     },
     "metadata": {
      "needs_background": "light"
     },
     "output_type": "display_data"
    }
   ],
   "source": [
    "# Repeat the classification with all features\n",
    "### BEGIN SOLUTION\n",
    "data = feature_all_patients.drop(['label'], axis=1)\n",
    "labels = feature_all_patients['label']\n",
    "X_train, X_test, y_train, y_test = train_test_split(data.values, labels.values, test_size=0.3, stratify=labels.values, random_state=12)\n",
    "classifier = RandomForestClassifier(n_estimators=100)\n",
    "classifier = classifier.fit(X_train, y_train)\n",
    "\n",
    "predicted = classifier.predict(X_test)\n",
    "print(confusion_matrix(y_test, predicted, labels=['N', 'PVC'], normalize=None))\n",
    "print(accuracy_score(y_test, predicted))\n",
    "\n",
    "plot_confusion_matrix(classifier, X_test, y_test, normalize='true');\n",
    "### END SOLUTION"
   ]
  },
  {
   "cell_type": "markdown",
   "metadata": {},
   "source": [
    "## Ex. 12.5: Discussing classifier performance\n",
    "\n",
    "a) Would you trust the classifier to make an automatic decision in a clinical environment?\n",
    "\n",
    "b) For which performance parameter would you try to optimize the classifier performance? (TP-rate or TN-rate?)\n",
    "\n",
    "c) What other issues do you see with the current system?"
   ]
  },
  {
   "cell_type": "markdown",
   "metadata": {},
   "source": [
    "### Solution:\n",
    "\n",
    "a) Can be debated, but I would say no. The performance is good, but we looked at an artificial case where only one heart condition exists. We have no idea how our classifier would react to anything abnormal.\n",
    "\n",
    "b) This depends on your final deployment. On the one hand, you want to find all abnormal heartbeats (high TP). However, it is likely that this will also increase the FP rate. This means healthy subjects are considered ill. Depending on the consequences this might not be desirable either. For example, in a closed loop system (fully automated) a FP might end in a wrong treatment for the patient. Therefore, given that perfect classification is seldom possible you need to find a compromise for your specific application."
   ]
  }
 ],
 "metadata": {
  "kernelspec": {
   "display_name": "Python 3 (ipykernel)",
   "language": "python",
   "name": "python3"
  },
  "language_info": {
   "codemirror_mode": {
    "name": "ipython",
    "version": 3
   },
   "file_extension": ".py",
   "mimetype": "text/x-python",
   "name": "python",
   "nbconvert_exporter": "python",
   "pygments_lexer": "ipython3",
   "version": "3.9.7"
  }
 },
 "nbformat": 4,
 "nbformat_minor": 4
}
