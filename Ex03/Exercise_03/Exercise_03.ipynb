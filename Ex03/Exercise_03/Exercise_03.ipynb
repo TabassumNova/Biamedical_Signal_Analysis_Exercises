{
 "cells": [
  {
   "cell_type": "code",
   "execution_count": null,
   "metadata": {},
   "outputs": [],
   "source": [
    "# Imports and basic setup\n",
    "# Try to use the Lab Widgets or if not possible the NB widgets and if nothing works just static plots\n",
    "try:\n",
    "    %matplotlib widget\n",
    "    print('Using widgets')\n",
    "except:\n",
    "    try:\n",
    "        print('Using Notebook widgets')\n",
    "        %matplotlib notebook\n",
    "    except:\n",
    "        print('Using static backend')\n",
    "        %matplotlib inline\n",
    "import matplotlib.pyplot as plt\n",
    "import pandas as pd\n",
    "\n",
    "import matplotlib.pyplot as plt\n",
    "import pandas as pd\n",
    "import numpy as np"
   ]
  },
  {
   "cell_type": "markdown",
   "metadata": {},
   "source": [
    "## Exercise 3.1: Peak Detection"
   ]
  },
  {
   "cell_type": "markdown",
   "metadata": {},
   "source": [
    "One common task during the analysis of biosignals is the detection of events that correlate with certain changes in physiology.\n",
    "Many of these events occur periodically in a signal.\n",
    "Therefore, we can use the identified events to calculate the frequency of physiological changes.\n",
    "\n",
    "\"Event\" is a very abstract term and can be anything in a signal.\n",
    "Luckily, many important events are visible as clear peaks in a recorded signal (for example the R-peak in the ECG).\n",
    "\n",
    "a) Think back to the very simple cosine signal from last exercise. Brainstorm some methods to find the individual maxima of each period\n",
    "\n",
    "b) Do you think your methods from a) would be able to find the R-peaks of an ECG signal (see an example below)?\n",
    "\n",
    "![ECG signal](media/ecg.png)"
   ]
  },
  {
   "cell_type": "markdown",
   "metadata": {},
   "source": [
    "## Exercise 3.2: Finding Peaks with Python\n",
    "\n",
    "While it would be possible, to implement all methods you listed in 3.1 with just plane Python, for a first approach you should always check if there are some functions available in popular Python packages.\n",
    "A quick google search will return the `scipy.signal.find_peaks` function.\n",
    "Read through the documentation and try to understand what each parameter does.\n",
    "\n",
    "a) Find a set of parameters that can detect all maxima in the cosine signal from last week (see Skeleton code) and plot the results. Mark each maxima the algorithm found in the plot.\n",
    "\n",
    "b) Calculate the mean of the distance between two adjacent peeks and use it to calculate the frequency of the signal. Does this result match your expectation?\n"
   ]
  },
  {
   "cell_type": "code",
   "execution_count": null,
   "metadata": {},
   "outputs": [],
   "source": [
    "# Create a cosine signal (see last Ex for details)\n",
    "T = 10 # s (length of signal)\n",
    "f_0 = 3. # Hz (frequency of signal)\n",
    "f_s = 100. # Hz (sampling freq)\n",
    "t = np.arange(0, T, 1 / f_s)\n",
    "y = np.cos(2 * np.pi * f_0 * t)\n",
    "\n",
    "# Use find_peaks to detect all the maxima of the signal y\n",
    "# and store the results in the variable peaks\n",
    "from scipy.signal import find_peaks\n",
    "# TODO: YOUR CODE HERE\n",
    "\n",
    "\n",
    "\n",
    "# Plot the results\n",
    "plt.figure()\n",
    "plt.plot(t, y)\n",
    "plt.xlabel('time [s]')\n",
    "# Plot the peaks\n",
    "# TODO: YOUR CODE HERE\n",
    "\n"
   ]
  },
  {
   "cell_type": "code",
   "execution_count": null,
   "metadata": {},
   "outputs": [],
   "source": [
    "# Calculate the distance between peaks\n",
    "def freq_from_peaks(peaks, sampling_rate):\n",
    "    \"\"\"Calculate the frequency of events based on a list of occurrences.\n",
    "    \n",
    "    Args:\n",
    "        peaks: list of indices at which the event occurs\n",
    "        sampling_rate: sampling rate of the signal to transform the frequency to Hz\n",
    "        \n",
    "    Returns:\n",
    "        mean: The average frequency (in Hz)\n",
    "        std: The std of the frequency (in Hz)\n",
    "    \"\"\"\n",
    "    peaks = peaks.astype(float) # This prevents errors in the following lines\n",
    "    # TODO: YOUR CODE HERE\n",
    "    \n",
    "    \n",
    "    return freq_mean, freq_std\n",
    "    "
   ]
  },
  {
   "cell_type": "code",
   "execution_count": null,
   "metadata": {},
   "outputs": [],
   "source": [
    "freq_mean, freq_std = freq_from_peaks(peaks, f_s)\n",
    "print(\"The frequency of the signal is {:.4} Hz (+/- {:.4} Hz)\".format(freq_mean, freq_std))"
   ]
  },
  {
   "cell_type": "markdown",
   "metadata": {},
   "source": [
    "## Exercise 3.3: Heart Rate from ECG\n",
    "\n",
    "c) Load and plot the signals `data/ecg_1.csv` and `data/ecg_2.csv`. Note that the differences in R-Peak heights are due to different electrode placements in the two measurements.\n",
    "\n",
    "b) Use `find_peaks` to detect all R-peaks in the signals. Try to find a single set of parameters for the `find_peaks` method that works on both signals. If you choose parameters that depend on the time between events, convert it using the sampling rate of the signal to make it indepent of how fast the signal is sampled (you will see why later).\n",
    "\n",
    "c) Plot the signal and the detected R-peaks.\n",
    "\n",
    "d) Calculate the mean and std of the heart rate for both signals\n"
   ]
  },
  {
   "cell_type": "code",
   "execution_count": null,
   "metadata": {},
   "outputs": [],
   "source": [
    "# Load the 2 Signals\n",
    "# load the first file with pandas and calculate its sampling_rate.\n",
    "# Store the data in ecg_1 and the sampling rate in sampling_rate_1\n",
    "# TODO: YOUR CODE HERE\n",
    "\n",
    "\n",
    "# load the second file with pandas and calculate its sampling_rate.\n",
    "# Store the data in ecg_2 and the sampling rate in sampling_rate_2\n",
    "# TODO: YOUR CODE HERE\n",
    "\n"
   ]
  },
  {
   "cell_type": "code",
   "execution_count": null,
   "metadata": {},
   "outputs": [],
   "source": [
    "# Write a short function that returns the R-peaks of each signal using find_peaks\n",
    "# You might want to use the sampling rate to make some of your thresholds more dynamic\n",
    "def find_R_peaks(signal, sampling_rate):\n",
    "    \"\"\"Find the position of R-peaks in the signal.\n",
    "    \n",
    "    Args:\n",
    "        signal: np.array containing the ECG signal\n",
    "        sampling_rate: the sampling rate of the signal\n",
    "        \n",
    "    Returns:\n",
    "        peaks: an np.array with the indices of the peaks in the signals\n",
    "    \"\"\"\n",
    "    # TODO: YOUR CODE HERE\n",
    "    \n",
    "    \n",
    "    return peaks"
   ]
  },
  {
   "cell_type": "code",
   "execution_count": null,
   "metadata": {},
   "outputs": [],
   "source": [
    "# Calculate the R-Peaks of the two signals using your function\n",
    "# Store the results in peaks_1 and peaks_2\n",
    "# TODO: YOUR CODE HERE\n",
    "\n"
   ]
  },
  {
   "cell_type": "code",
   "execution_count": null,
   "metadata": {},
   "outputs": [],
   "source": [
    "# Plot your raw signal, as well as, the detected peaks\n",
    "# Make sure that your time axis has the unit seconds\n",
    "# ECG 1\n",
    "# TODO: YOUR CODE HERE\n",
    "\n",
    "\n",
    "\n",
    "# ECG 2\n",
    "# TODO: YOUR CODE HERE\n",
    "\n"
   ]
  },
  {
   "cell_type": "code",
   "execution_count": null,
   "metadata": {},
   "outputs": [],
   "source": [
    "# Calculate the heart rate (mean and std) of both signals\n",
    "# Name them hr_mean_{1,2} and hr_std_{1,2}\n",
    "# TODO: YOUR CODE HERE\n",
    "\n",
    "\n",
    "print(\"The heart rate ECG signal 1 is {:.4} Hz (+/- {:.4} Hz) or {:.4} bpm (+/- {:.4} bpm)\".format(hr_mean_1, hr_std_1, hr_mean_1 * 60, hr_std_1 * 60))\n",
    "print(\"The heart rate ECG signal 2 is {:.4} Hz (+/- {:.4} Hz) or {:.4} bpm (+/- {:.4} bpm)\".format(hr_mean_2, hr_std_2, hr_mean_2 * 60, hr_std_2 * 60))"
   ]
  },
  {
   "cell_type": "markdown",
   "metadata": {},
   "source": [
    "## Exercise 3.3: Heart Rate vs Sampling Rate\n",
    "\n",
    "Last week we saw that the sampling rate can heavily effect the shape of the signal we measure.\n",
    "This means it will also effect the performance of a peak detection on the signal.\n",
    "\n",
    "Let's try to simulate this effect with our naive calculation of the heart rate.\n",
    "\n",
    "Below you can find a function called `downsample`, that can simulate a reduction in the sampling rate of a signal.\n",
    "There are many ways to do this.\n",
    "For this exercise we use a very simple linear interpolation to downsample.\n",
    "**For real signals always use methods that apply a filter before the resampling to avoid aliasing artifacts**.\n",
    "\n",
    "a) What do you think happens to the the mean of the heart rate when the signal is downsampled?\n",
    "\n",
    "b) Create a new plot using the `ecg_1` signal with the sampling rate on the x-axis and the detected heart rate (in bpm) on the y-axis. Use the STD to plot errorbars.\n",
    "Have a look at the skeleton code for further guidance.\n",
    "\n",
    "c) What does these results tell us about potential future measurements?"
   ]
  },
  {
   "cell_type": "code",
   "execution_count": null,
   "metadata": {},
   "outputs": [],
   "source": [
    "from scipy.interpolate import interp1d\n",
    "\n",
    "def downsample(t, signal, new_sampling_rate):\n",
    "    new_t = np.linspace(t[0], t[-1], int((t[-1] - t[0]) * new_sampling_rate))\n",
    "    new_signal = interp1d(t, signal)(new_t)\n",
    "    return new_t, new_signal\n",
    "\n",
    "# Combine the downsample function with the rest of the pipeline in a single function\n",
    "def hr_from_signal(time, signal, new_sampling_rate):\n",
    "    \"\"\"Downsample the signal and calculate the hear rate.\n",
    "    \n",
    "    Args:\n",
    "        time: time axis of the signal\n",
    "        signal: the ecg signal values\n",
    "        new_sampling_rate: the sampling rate after the downsampling\n",
    "        \n",
    "    Returns:\n",
    "        mean_hr: mean hr in Hz based on th signal\n",
    "        std_hr: std of the heart rate in Hz\n",
    "    \"\"\"\n",
    "    # TODO: YOUR CODE HERE\n",
    "    \n",
    "    \n",
    "    return mean_hr, std_hr"
   ]
  },
  {
   "cell_type": "code",
   "execution_count": null,
   "metadata": {},
   "outputs": [],
   "source": [
    "sampling_rates = np.linspace(10, 256, 100)\n",
    "# Use a loop to calculate the mean and the std for each of the values in sampling_rates.\n",
    "# Save the results in two lists: hr_means, hr_stds\n",
    "# TODO: YOUR CODE HERE\n",
    "\n",
    "\n",
    "hr_means = np.array(hr_means)\n",
    "hr_stds = np.array(hr_stds)"
   ]
  },
  {
   "cell_type": "code",
   "execution_count": null,
   "metadata": {},
   "outputs": [],
   "source": [
    "# Plot the results using the std as errorbars\n",
    "# TODO: YOUR CODE HERE\n",
    "\n",
    "\n",
    "plt.ylabel(\"HR [bpm]\")\n",
    "plt.xlabel('Sampling rate [Hz]');"
   ]
  },
  {
   "cell_type": "code",
   "execution_count": null,
   "metadata": {},
   "outputs": [],
   "source": []
  }
 ],
 "metadata": {
  "kernelspec": {
   "display_name": "Python 3",
   "language": "python",
   "name": "python3"
  },
  "language_info": {
   "codemirror_mode": {
    "name": "ipython",
    "version": 3
   },
   "file_extension": ".py",
   "mimetype": "text/x-python",
   "name": "python",
   "nbconvert_exporter": "python",
   "pygments_lexer": "ipython3",
   "version": "3.9.2"
  }
 },
 "nbformat": 4,
 "nbformat_minor": 4
}
